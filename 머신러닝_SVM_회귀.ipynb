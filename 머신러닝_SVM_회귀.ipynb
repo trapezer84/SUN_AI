{
  "cells": [
    {
      "cell_type": "markdown",
      "metadata": {
        "id": "pORaytF7RgbY"
      },
      "source": [
        "# 머신러닝 - SVM 회귀\n",
        "  \n",
        "\n",
        "**2019-2023 [FinanceData.KR]()**\n"
      ]
    },
    {
      "cell_type": "code",
      "source": [
        "import matplotlib.pyplot as plt"
      ],
      "metadata": {
        "id": "Kxq6Xnk7it8H"
      },
      "execution_count": null,
      "outputs": []
    },
    {
      "cell_type": "code",
      "source": [
        "from sklearn.datasets import make_regression\n",
        "\n",
        "X, y = make_regression(n_samples=300, n_features=1, bias=100, noise=50, random_state=0)\n",
        "plt.scatter(X, y)"
      ],
      "metadata": {
        "id": "2ICHrYFYYUN-"
      },
      "execution_count": null,
      "outputs": []
    },
    {
      "cell_type": "markdown",
      "source": [
        "## sklearn.svm.SVR"
      ],
      "metadata": {
        "id": "U2FDQpTui2Qv"
      }
    },
    {
      "cell_type": "code",
      "source": [
        "from sklearn.svm import SVR\n",
        "from sklearn.svm import LinearSVR\n",
        "from sklearn.svm import SVR\n",
        "from sklearn.model_selection import train_test_split\n",
        "\n",
        "train_x, test_x, train_y, test_y = train_test_split(X, y, random_state=0)\n",
        "\n",
        "model = SVR(kernel='linear', epsilon=100)\n",
        "model.fit(train_x, train_y)\n",
        "model.score(test_x, test_y)"
      ],
      "metadata": {
        "id": "UjjwUZ-HYUJQ"
      },
      "execution_count": null,
      "outputs": []
    },
    {
      "cell_type": "code",
      "source": [
        "model = SVR(kernel='linear', epsilon=0.1)\n",
        "model.fit(train_x, train_y)\n",
        "model.score(test_x, test_y)"
      ],
      "metadata": {
        "id": "2fHT9uz-jD8S"
      },
      "execution_count": null,
      "outputs": []
    },
    {
      "cell_type": "code",
      "source": [
        "plt.scatter(test_x, test_y)\n",
        "\n",
        "prod_y = test_x * model.coef_ + model.intercept_\n",
        "plt.plot(test_x, prod_y, c='g')"
      ],
      "metadata": {
        "id": "DxvvVEY2imj5"
      },
      "execution_count": null,
      "outputs": []
    },
    {
      "cell_type": "markdown",
      "metadata": {
        "id": "YcjJzmkqReu0"
      },
      "source": [
        "----\n",
        "**2019-2023 [FinanceData.KR]()**\n"
      ]
    }
  ],
  "metadata": {
    "colab": {
      "provenance": []
    },
    "kernelspec": {
      "display_name": "Python 3",
      "name": "python3"
    },
    "language_info": {
      "name": "python"
    }
  },
  "nbformat": 4,
  "nbformat_minor": 0
}