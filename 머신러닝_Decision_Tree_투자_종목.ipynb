{
  "nbformat": 4,
  "nbformat_minor": 0,
  "metadata": {
    "kernelspec": {
      "display_name": "Python 3",
      "language": "python",
      "name": "python3"
    },
    "language_info": {
      "codemirror_mode": {
        "name": "ipython",
        "version": 3
      },
      "file_extension": ".py",
      "mimetype": "text/x-python",
      "name": "python",
      "nbconvert_exporter": "python",
      "pygments_lexer": "ipython3",
      "version": "3.5.2"
    },
    "colab": {
      "name": "머신러닝 - Decision Tree 투자 종목.ipynb",
      "provenance": []
    }
  },
  "cells": [
    {
      "cell_type": "markdown",
      "metadata": {
        "id": "VSsRS8c4q8v2"
      },
      "source": [
        "# 의사결정나무(decision trees) 비율 데이터 투자 종목 발굴\n",
        "\n",
        "\n",
        "**2019-2024 [FinanceData.KR]()**"
      ]
    },
    {
      "cell_type": "markdown",
      "metadata": {
        "id": "bp2Ik-GJq8v4"
      },
      "source": [
        "#  데이터셋 - 비율 데이터\n",
        "\n",
        "http://nbviewer.jupyter.org/gist/FinanceData/0236c759eac4cbe2765b1d421aa8a797/readme.ipynb\n",
        "\n"
      ]
    },
    {
      "cell_type": "code",
      "metadata": {
        "id": "ha3fKbA1q8v5"
      },
      "source": [
        "import pandas as pd\n",
        "\n",
        "url = 'https://goo.gl/sAMygH'\n",
        "df = pd.read_csv(url, dtype={'종목코드':str}).dropna()\n",
        "df"
      ],
      "execution_count": null,
      "outputs": []
    },
    {
      "cell_type": "code",
      "source": [
        "df = df.sort_values('시가총액', ascending=False)\n",
        "df = df.set_index('종목명')\n",
        "df.head()"
      ],
      "metadata": {
        "id": "OhcjDqZlJ-LQ"
      },
      "execution_count": null,
      "outputs": []
    },
    {
      "cell_type": "code",
      "metadata": {
        "id": "QMCWX-Tgq8v9"
      },
      "source": [
        "import numpy as np\n",
        "\n",
        "df[\"WIN\"] = np.where((df['수익률_6'] > 0.1), 1, 0)\n",
        "df[\"WIN\"].value_counts()"
      ],
      "execution_count": null,
      "outputs": []
    },
    {
      "cell_type": "code",
      "metadata": {
        "id": "d0YXRcGcq8wA"
      },
      "source": [
        "feature_names = [\"PER(배)\", \"PBR(배)\", \"ROE(%)\"]\n",
        "X = df[feature_names]\n",
        "X"
      ],
      "execution_count": null,
      "outputs": []
    },
    {
      "cell_type": "code",
      "source": [
        "y = df['WIN']\n",
        "y"
      ],
      "metadata": {
        "id": "z99IJV99JDsH"
      },
      "execution_count": null,
      "outputs": []
    },
    {
      "cell_type": "code",
      "source": [
        "y.value_counts()"
      ],
      "metadata": {
        "id": "aRkPeF6UNEUG"
      },
      "execution_count": null,
      "outputs": []
    },
    {
      "cell_type": "code",
      "metadata": {
        "id": "V73lvBDlq8wL"
      },
      "source": [
        "from sklearn.model_selection import train_test_split\n",
        "\n",
        "X_train, X_test, y_train, y_test = train_test_split(X, y, test_size=0.2, random_state=0)"
      ],
      "execution_count": null,
      "outputs": []
    },
    {
      "cell_type": "code",
      "metadata": {
        "id": "sQ-aDLuBq8wO"
      },
      "source": [
        "from sklearn.tree import DecisionTreeClassifier\n",
        "\n",
        "model = DecisionTreeClassifier(criterion='gini', max_depth=3, min_samples_leaf=5)\n",
        "model.fit(X_train, y_train)"
      ],
      "execution_count": null,
      "outputs": []
    },
    {
      "cell_type": "code",
      "source": [
        "import matplotlib.pyplot as plt\n",
        "from sklearn import tree\n",
        "\n",
        "plt.figure(figsize=(18, 6))\n",
        "annots = tree.plot_tree(model, class_names=['loss','profit'], feature_names=['PER','PBR','ROE'], filled=True, rounded=True)"
      ],
      "metadata": {
        "id": "Y5eLi-fJAofX"
      },
      "execution_count": null,
      "outputs": []
    },
    {
      "cell_type": "code",
      "source": [
        "model.score(X_test, y_test)"
      ],
      "metadata": {
        "id": "UXp0OxVRLhsE"
      },
      "execution_count": null,
      "outputs": []
    },
    {
      "cell_type": "code",
      "metadata": {
        "id": "8PUbb_Qdq8wb"
      },
      "source": [
        "from sklearn.metrics import classification_report\n",
        "\n",
        "print(classification_report(y_test, model.predict(X_test)))"
      ],
      "execution_count": null,
      "outputs": []
    },
    {
      "cell_type": "code",
      "metadata": {
        "id": "wGQ0XazAq8we"
      },
      "source": [
        "from sklearn.metrics import confusion_matrix\n",
        "\n",
        "confusion_matrix(y_test, model.predict(X_test))"
      ],
      "execution_count": null,
      "outputs": []
    },
    {
      "cell_type": "markdown",
      "metadata": {
        "id": "4PTJulqnq8wh"
      },
      "source": [
        "**2019-2024 [FinanceData.KR]()**"
      ]
    }
  ]
}