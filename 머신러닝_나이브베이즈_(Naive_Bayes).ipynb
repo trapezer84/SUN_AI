{
  "cells": [
    {
      "cell_type": "markdown",
      "metadata": {
        "id": "pORaytF7RgbY"
      },
      "source": [
        "# 머신러닝 - 나이브베이즈 (Naive Bayes)\n",
        "\n",
        "**2019-2023 [FinanceData.KR]()**\n"
      ]
    },
    {
      "cell_type": "markdown",
      "source": [
        "## 예제 - 와인 품종 데이터셋\n",
        "https://nbviewer.org/fd9564d7fa5f042e5f5c50d01b1589ee\n"
      ],
      "metadata": {
        "id": "Al3vOa3rcFR1"
      }
    },
    {
      "cell_type": "code",
      "source": [
        "from sklearn.datasets import load_wine\n",
        "from sklearn.model_selection import train_test_split\n",
        "from sklearn.naive_bayes import GaussianNB\n",
        "\n",
        "wine=load_wine()\n",
        "x_train, x_test, y_train, y_test=train_test_split(wine['data'], wine['target'], test_size=0.3, random_state=1)\n",
        "\n",
        "model = GaussianNB()\n",
        "model.fit(x_train, y_train)\n",
        "model.score(x_test, y_test)"
      ],
      "metadata": {
        "id": "7FTpWOYRcFMy"
      },
      "execution_count": null,
      "outputs": []
    },
    {
      "cell_type": "code",
      "source": [
        "from sklearn.metrics import classification_report\n",
        "\n",
        "y_pred = model.predict(x_test)\n",
        "print(classification_report(y_test, y_pred))"
      ],
      "metadata": {
        "id": "vCdEkLJqZQQ-"
      },
      "execution_count": null,
      "outputs": []
    },
    {
      "cell_type": "markdown",
      "source": [
        "## BernoulliNB, GaussianNB, MultinomialNB 비교"
      ],
      "metadata": {
        "id": "ZGsrX5IwaneJ"
      }
    },
    {
      "cell_type": "code",
      "source": [
        "import numpy as np\n",
        "import matplotlib.pyplot as plt\n",
        "from matplotlib.colors import ListedColormap\n",
        "\n",
        "from sklearn.datasets import make_blobs\n",
        "from sklearn.datasets import make_classification\n",
        "from sklearn.model_selection import train_test_split\n",
        "from sklearn.metrics import accuracy_score, f1_score"
      ],
      "metadata": {
        "id": "AUcmPenFkAYx"
      },
      "execution_count": null,
      "outputs": []
    },
    {
      "cell_type": "markdown",
      "source": [
        "### Bernoulli Naive Bayes (BernoulliNB)\n",
        "* 주어진 데이터가 이진(binary) 형태로 구성되어 있는 경우에 사용\n",
        "* 각 특성의 값은 0 또는 1\n",
        "* 예: 텍스트 데이터의 단어 등장 여부\n"
      ],
      "metadata": {
        "id": "RVS2KAjpbGq1"
      }
    },
    {
      "cell_type": "code",
      "source": [
        "from sklearn.naive_bayes import BernoulliNB\n",
        "\n",
        "# 데이터 생성\n",
        "X, y = make_classification(n_samples=1000, n_features=2, n_informative=2, n_redundant=0, random_state=0)"
      ],
      "metadata": {
        "id": "EBqHrlQMbGnn"
      },
      "execution_count": null,
      "outputs": []
    },
    {
      "cell_type": "code",
      "source": [
        "# 데이터 시각화\n",
        "plt.scatter(X[:, 0], X[:, 1], c=y, cmap=ListedColormap(['red', 'blue']), s=10)\n",
        "plt.title(\"Generated Data\")\n",
        "plt.xlabel(\"Feature 1\")\n",
        "plt.ylabel(\"Feature 2\")\n",
        "plt.show()"
      ],
      "metadata": {
        "id": "X8eyLNhFgcAK"
      },
      "execution_count": null,
      "outputs": []
    },
    {
      "cell_type": "code",
      "source": [
        "# 데이터 분할\n",
        "X_train, X_test, y_train, y_test = train_test_split(X, y, test_size=0.2, random_state=0)\n",
        "\n",
        "# 모델 학습\n",
        "clf_bern = BernoulliNB()\n",
        "clf_bern.fit(X_train, y_train)\n",
        "\n",
        "# 모델 예측\n",
        "y_pred = clf_bern.predict(X_test)"
      ],
      "metadata": {
        "id": "5kzwZYLggfq2"
      },
      "execution_count": null,
      "outputs": []
    },
    {
      "cell_type": "code",
      "source": [
        "# 예측 결과 시각화\n",
        "x_min, x_max = X[:, 0].min() - 1, X[:, 0].max() + 1\n",
        "y_min, y_max = X[:, 1].min() - 1, X[:, 1].max() + 1\n",
        "\n",
        "xx, yy = np.meshgrid(np.arange(x_min, x_max, 0.01), np.arange(y_min, y_max, 0.01))\n",
        "Z = clf_bern.predict(np.c_[xx.ravel(), yy.ravel()])\n",
        "Z = Z.reshape(xx.shape)\n",
        "\n",
        "plt.contourf(xx, yy, Z, alpha=0.3, cmap=ListedColormap(['red', 'blue']))\n",
        "plt.scatter(X_test[:, 0], X_test[:, 1], c=y_test, cmap=ListedColormap(['red', 'blue']), s=10)\n",
        "plt.title(\"BernoulliNB Classification\")\n",
        "plt.xlabel(\"Feature 1\")\n",
        "plt.ylabel(\"Feature 2\")\n",
        "plt.show()"
      ],
      "metadata": {
        "id": "VEU5nZX1gkyy"
      },
      "execution_count": null,
      "outputs": []
    },
    {
      "cell_type": "code",
      "source": [
        "clf_bern.classes_"
      ],
      "metadata": {
        "id": "vr3BSD9mbGkA"
      },
      "execution_count": null,
      "outputs": []
    },
    {
      "cell_type": "code",
      "source": [
        "clf_bern.class_count_"
      ],
      "metadata": {
        "id": "z9w9tqnlgxDD"
      },
      "execution_count": null,
      "outputs": []
    },
    {
      "cell_type": "code",
      "source": [
        "np.exp(clf_bern.class_log_prior_)"
      ],
      "metadata": {
        "id": "6NRttQCtgw_X"
      },
      "execution_count": null,
      "outputs": []
    },
    {
      "cell_type": "code",
      "source": [
        "fc = clf_bern.feature_count_\n",
        "fc"
      ],
      "metadata": {
        "id": "FbS6BgJ-gw7F"
      },
      "execution_count": null,
      "outputs": []
    },
    {
      "cell_type": "code",
      "source": [
        "theta = np.exp(clf_bern.feature_log_prob_)\n",
        "theta"
      ],
      "metadata": {
        "id": "K8HFEJwUg0iq"
      },
      "execution_count": null,
      "outputs": []
    },
    {
      "cell_type": "code",
      "source": [
        "clf_bern.predict_proba([[-4, 4]])"
      ],
      "metadata": {
        "id": "0H6hkAtrg4dw"
      },
      "execution_count": null,
      "outputs": []
    },
    {
      "cell_type": "markdown",
      "source": [
        "### Gaussian Naive Bayes (GaussianNB)\n",
        "\n",
        "데이터를 기반으로 클래스를 예측하는 데 사용"
      ],
      "metadata": {
        "id": "nKYMsoksczcs"
      }
    },
    {
      "cell_type": "code",
      "source": [
        "# 데이터 생성\n",
        "X, y = make_blobs(n_samples=1000, n_features=2, random_state=0)"
      ],
      "metadata": {
        "id": "PbuRuA4-ccIn"
      },
      "execution_count": null,
      "outputs": []
    },
    {
      "cell_type": "code",
      "source": [
        "# 데이터 시각화\n",
        "plt.scatter(X[:, 0], X[:, 1], c=y, cmap=ListedColormap(['red', 'blue', 'green']), s=10)\n",
        "plt.title(\"Generated Data\")\n",
        "plt.xlabel(\"Feature 1\")\n",
        "plt.ylabel(\"Feature 2\")\n",
        "plt.show()"
      ],
      "metadata": {
        "id": "AcuKBFPBfG59"
      },
      "execution_count": null,
      "outputs": []
    },
    {
      "cell_type": "code",
      "source": [
        "from sklearn.naive_bayes import GaussianNB\n",
        "\n",
        "# 데이터 분할\n",
        "X_train, X_test, y_train, y_test = train_test_split(X, y, test_size=0.2, random_state=0)\n",
        "\n",
        "# 모델 학습\n",
        "clf_norm = GaussianNB()\n",
        "clf_norm.fit(X_train, y_train)"
      ],
      "metadata": {
        "id": "hIvFZDY3fLFj"
      },
      "execution_count": null,
      "outputs": []
    },
    {
      "cell_type": "code",
      "source": [
        "# 모델 예측\n",
        "y_pred = clf_norm.predict(X_test)\n",
        "\n",
        "accuracy_score(y_test, y_pred)"
      ],
      "metadata": {
        "id": "fgN5gquJfPiO"
      },
      "execution_count": null,
      "outputs": []
    },
    {
      "cell_type": "code",
      "source": [
        "f1_score(y_test, y_pred, average=None)"
      ],
      "metadata": {
        "id": "McbBHp3nfU6X"
      },
      "execution_count": null,
      "outputs": []
    },
    {
      "cell_type": "code",
      "source": [
        "# 예측 결과 시각화\n",
        "x_min, x_max = X[:, 0].min() - 1, X[:, 0].max() + 1\n",
        "y_min, y_max = X[:, 1].min() - 1, X[:, 1].max() + 1\n",
        "\n",
        "xx, yy = np.meshgrid(np.arange(x_min, x_max, 0.01), np.arange(y_min, y_max, 0.01))\n",
        "Z = clf_norm.predict(np.c_[xx.ravel(), yy.ravel()])\n",
        "Z = Z.reshape(xx.shape)\n",
        "\n",
        "plt.contourf(xx, yy, Z, alpha=0.3, cmap=ListedColormap(['red', 'blue', 'green']))\n",
        "plt.scatter(X_test[:, 0], X_test[:, 1], c=y_test, cmap=ListedColormap(['red', 'blue', 'green']), s=10)\n",
        "plt.title(\"GaussianNB Classification\")\n",
        "plt.xlabel(\"Feature 1\")\n",
        "plt.ylabel(\"Feature 2\")\n",
        "plt.show()"
      ],
      "metadata": {
        "id": "56VPKevBfNhk"
      },
      "execution_count": null,
      "outputs": []
    },
    {
      "cell_type": "code",
      "source": [
        "clf_norm.classes_   # y값이 가질 수 있는 클래스들"
      ],
      "metadata": {
        "id": "XoKKkaB8fXhF"
      },
      "execution_count": null,
      "outputs": []
    },
    {
      "cell_type": "code",
      "source": [
        "clf_norm.class_count_   # 각각 y 값의 갯수"
      ],
      "metadata": {
        "id": "A9gSfvW6fZGr"
      },
      "execution_count": null,
      "outputs": []
    },
    {
      "cell_type": "code",
      "source": [
        "clf_norm.class_prior_   # 각각 y의 확률(사전)"
      ],
      "metadata": {
        "id": "urLTjRvdfacp"
      },
      "execution_count": null,
      "outputs": []
    },
    {
      "cell_type": "code",
      "source": [
        "clf_norm.theta_ # 가우시안 정규 분포의 기댓값μ"
      ],
      "metadata": {
        "id": "EteIuud6fbgu"
      },
      "execution_count": null,
      "outputs": []
    },
    {
      "cell_type": "code",
      "source": [
        "clf_norm.var_ # 가우시안 정규 분포의 분산 σ2"
      ],
      "metadata": {
        "id": "x8wTjsNFfmCm"
      },
      "execution_count": null,
      "outputs": []
    },
    {
      "cell_type": "markdown",
      "source": [
        "### MultinomialNB :  multinomial models"
      ],
      "metadata": {
        "id": "wfcgObBeg4Tv"
      }
    },
    {
      "cell_type": "code",
      "source": [
        "# 데이터 생성\n",
        "X, y = make_classification(n_samples=1000, n_features=2, n_informative=2, n_redundant=0, n_classes=2, n_clusters_per_class=1, random_state=0)\n",
        "\n",
        "#  MultinomialNB 모델은 입력 데이터로 비음수(non-negative) 값만 허용\n",
        "X_min = X.min()\n",
        "X = X - X_min  # 최소값을 빼서 모든 값이 0 이상으로 만듦"
      ],
      "metadata": {
        "id": "L__eBZZSbGeN"
      },
      "execution_count": null,
      "outputs": []
    },
    {
      "cell_type": "code",
      "source": [
        "# 데이터 시각화\n",
        "plt.scatter(X[:, 0], X[:, 1], c=y, cmap=ListedColormap(['red', 'blue']), s=10)\n",
        "plt.title(\"Generated Data\")\n",
        "plt.xlabel(\"Feature 1\")\n",
        "plt.ylabel(\"Feature 2\")\n",
        "plt.show()"
      ],
      "metadata": {
        "id": "H8PFk4u8i4x7"
      },
      "execution_count": null,
      "outputs": []
    },
    {
      "cell_type": "code",
      "source": [
        "from sklearn.naive_bayes import MultinomialNB\n",
        "\n",
        "# 데이터 분할\n",
        "X_train, X_test, y_train, y_test = train_test_split(X, y, test_size=0.2, random_state=0)\n",
        "\n",
        "# 모델 학습\n",
        "clf_mult = MultinomialNB()\n",
        "clf_mult.fit(X_train, y_train)\n",
        "\n",
        "# 모델 예측\n",
        "y_pred = clf_mult.predict(X_test)"
      ],
      "metadata": {
        "id": "1g-uJNPwi6ZW"
      },
      "execution_count": null,
      "outputs": []
    },
    {
      "cell_type": "code",
      "source": [
        "clf_mult.classes_"
      ],
      "metadata": {
        "id": "mKvO1nbCjCUb"
      },
      "execution_count": null,
      "outputs": []
    },
    {
      "cell_type": "code",
      "source": [
        "clf_mult.alpha"
      ],
      "metadata": {
        "id": "_IDA-9YkjNfV"
      },
      "execution_count": null,
      "outputs": []
    },
    {
      "cell_type": "code",
      "source": [
        "clf_mult.predict_proba([[1, 4], [7, 6]])"
      ],
      "metadata": {
        "id": "9ys_ZANhjPWO"
      },
      "execution_count": null,
      "outputs": []
    },
    {
      "cell_type": "code",
      "source": [
        "# 예측 결과 시각화\n",
        "x_min, x_max = X[:, 0].min() - 1, X[:, 0].max() + 1\n",
        "y_min, y_max = X[:, 1].min() - 1, X[:, 1].max() + 1\n",
        "\n",
        "xx, yy = np.meshgrid(np.arange(x_min, x_max, 0.01), np.arange(y_min, y_max, 0.01))\n",
        "Z = clf_mult.predict(np.c_[xx.ravel(), yy.ravel()])\n",
        "Z = Z.reshape(xx.shape)\n",
        "\n",
        "plt.contourf(xx, yy, Z, alpha=0.3, cmap=ListedColormap(['red', 'blue']))\n",
        "plt.scatter(X_test[:, 0], X_test[:, 1], c=y_test, cmap=ListedColormap(['red', 'blue']), s=10)\n",
        "plt.title(\"MultinomialNB Classification\")\n",
        "plt.xlabel(\"Feature 1\")\n",
        "plt.ylabel(\"Feature 2\")\n",
        "plt.show()"
      ],
      "metadata": {
        "id": "H360n3Rbi9zl"
      },
      "execution_count": null,
      "outputs": []
    },
    {
      "cell_type": "markdown",
      "metadata": {
        "id": "YcjJzmkqReu0"
      },
      "source": [
        "----\n",
        "**2019-2023 [FinanceData.KR]()**\n"
      ]
    }
  ],
  "metadata": {
    "colab": {
      "provenance": []
    },
    "kernelspec": {
      "display_name": "Python 3",
      "name": "python3"
    },
    "language_info": {
      "name": "python"
    }
  },
  "nbformat": 4,
  "nbformat_minor": 0
}