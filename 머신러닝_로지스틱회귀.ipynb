{
  "nbformat": 4,
  "nbformat_minor": 0,
  "metadata": {
    "colab": {
      "provenance": []
    },
    "kernelspec": {
      "name": "python3",
      "display_name": "Python 3"
    },
    "language_info": {
      "name": "python"
    }
  },
  "cells": [
    {
      "cell_type": "markdown",
      "metadata": {
        "id": "xVd38xbeu9Az"
      },
      "source": [
        "# 머신러닝 - 로지스틱 회귀 (Logistic Regression)\n",
        "  \n",
        "**2019-2023 [FinanceData.KR]()**"
      ]
    },
    {
      "cell_type": "markdown",
      "metadata": {
        "id": "VLqfvvEna58k"
      },
      "source": [
        "## Logistic Function (로지스틱 함수)\n",
        "Logistic Function은 Sigmoid function, Squashing function (Large input, Small output)\n",
        "\n",
        "\n"
      ]
    },
    {
      "cell_type": "code",
      "metadata": {
        "id": "qvbHczGNu9A9"
      },
      "source": [
        "import matplotlib.pyplot as plt\n",
        "import numpy as np\n",
        "\n",
        "x = np.linspace(-10, 10, 1000)\n",
        "plt.plot(x, 1/(1+np.exp(-x)), label=\"logistic\")\n",
        "plt.legend(loc=2)\n",
        "plt.grid(True)\n",
        "plt.show()"
      ],
      "execution_count": null,
      "outputs": []
    },
    {
      "cell_type": "markdown",
      "metadata": {
        "id": "4z5X2gZGUkXz"
      },
      "source": [
        "1. 출력 범위: 0 ~ 1 (<u>**확률값**</u>)\n",
        "1. 단조증가 함수\n",
        "1. 이진분류 (threshold = 일반적으로 0.5)\n"
      ]
    },
    {
      "cell_type": "markdown",
      "metadata": {
        "id": "HFjSNXN1u9BB"
      },
      "source": [
        "## LogisticRegression"
      ]
    },
    {
      "cell_type": "code",
      "metadata": {
        "id": "kAn0V03Eu9BC"
      },
      "source": [
        "from sklearn.linear_model import LogisticRegression\n",
        "\n",
        "model = LogisticRegression()\n",
        "x = [[-2,-3], [-5, -10], [10,3], [9,6]]\n",
        "y = [1,1,0,0]\n",
        "\n",
        "model.fit(x,y)\n",
        "print(model.predict([[-1,-4]]))"
      ],
      "execution_count": null,
      "outputs": []
    },
    {
      "cell_type": "code",
      "metadata": {
        "id": "AtsMzJWAu9BF"
      },
      "source": [
        "print(model.coef_)\n",
        "print(model.intercept_)"
      ],
      "execution_count": null,
      "outputs": []
    },
    {
      "cell_type": "markdown",
      "metadata": {
        "id": "dMSnAfILebOT"
      },
      "source": [
        "## 로지스틱 회귀 예제 #1 - 가상데이터"
      ]
    },
    {
      "cell_type": "code",
      "metadata": {
        "id": "9q9yNG0B35BW"
      },
      "source": [
        "import numpy as np\n",
        "import matplotlib.pyplot as plt\n",
        "from sklearn.datasets import make_blobs\n",
        "from sklearn.linear_model import LogisticRegression\n",
        "\n",
        "# 가상의 데이터 생성\n",
        "X, y = make_blobs(n_samples=150, n_features=2, centers=2, cluster_std=1, shuffle=True, random_state=0)"
      ],
      "execution_count": null,
      "outputs": []
    },
    {
      "cell_type": "code",
      "metadata": {
        "id": "D9X1viSTdEat"
      },
      "source": [
        "# 처음 5건 살펴보기 (1)\n",
        "print(X[:5])\n",
        "print(y[:5])"
      ],
      "execution_count": null,
      "outputs": []
    },
    {
      "cell_type": "code",
      "metadata": {
        "id": "nY8q7V6Wa3Rm"
      },
      "source": [
        "# 처음 5건 살펴보기 (2)\n",
        "import pandas as pd\n",
        "\n",
        "df = pd.DataFrame(np.c_[X, y], columns=['x1', 'x2', 'y'])\n",
        "df[:5] # 처음 5건"
      ],
      "execution_count": null,
      "outputs": []
    },
    {
      "cell_type": "code",
      "metadata": {
        "id": "zbfaEmZYXmkZ"
      },
      "source": [
        "from sklearn.linear_model import LogisticRegression\n",
        "lr = LogisticRegression()\n",
        "lr.fit(X, y)\n",
        "\n",
        "print('Score: ', lr.score(X, y))"
      ],
      "execution_count": null,
      "outputs": []
    },
    {
      "cell_type": "code",
      "metadata": {
        "id": "L9THFsvnblcS"
      },
      "source": [
        "## 예측해보기\n",
        "lr.predict(X[:5])"
      ],
      "execution_count": null,
      "outputs": []
    },
    {
      "cell_type": "code",
      "metadata": {
        "id": "yxrX0CrgblY2"
      },
      "source": [
        "## 확률값 확인(1)\n",
        "lr.predict_proba(X[:5])"
      ],
      "execution_count": null,
      "outputs": []
    },
    {
      "cell_type": "code",
      "metadata": {
        "id": "ipXU_OodddSm"
      },
      "source": [
        "## 확률값 확인(2)\n",
        "df = pd.DataFrame(lr.predict_proba(X), columns=['Class 0', 'Class 1'])\n",
        "df[:5] # 처음 5건"
      ],
      "execution_count": null,
      "outputs": []
    },
    {
      "cell_type": "code",
      "metadata": {
        "id": "hUXLxEVraYdG"
      },
      "source": [
        "## 계수 확인\n",
        "lr.coef_, lr.intercept_"
      ],
      "execution_count": null,
      "outputs": []
    },
    {
      "cell_type": "code",
      "source": [
        "# 결정 경계를 시각화\n",
        "x_min, x_max = X[:, 0].min() - 1, X[:, 0].max() + 1\n",
        "y_min, y_max = X[:, 1].min() - 1, X[:, 1].max() + 1\n",
        "xx, yy = np.meshgrid(np.arange(x_min, x_max, 0.01), np.arange(y_min, y_max, 0.01))\n",
        "Z = lr.predict(np.c_[xx.ravel(), yy.ravel()])\n",
        "Z = Z.reshape(xx.shape)\n",
        "\n",
        "plt.contourf(xx, yy, Z, alpha=0.8)\n",
        "plt.scatter(X[:, 0], X[:, 1], c=y, marker='o', edgecolors='k')\n",
        "plt.xlabel(\"Feature 1\")\n",
        "plt.ylabel(\"Feature 2\")\n",
        "plt.title(\"Logistic Regression Decision Boundary\")\n",
        "plt.show()"
      ],
      "metadata": {
        "id": "317K9fOUn4oX"
      },
      "execution_count": null,
      "outputs": []
    },
    {
      "cell_type": "markdown",
      "source": [
        "## 전체 코드"
      ],
      "metadata": {
        "id": "Aycmj-bYoXC-"
      }
    },
    {
      "cell_type": "code",
      "source": [
        "import numpy as np\n",
        "import matplotlib.pyplot as plt\n",
        "from sklearn.datasets import make_blobs\n",
        "from sklearn.linear_model import LogisticRegression\n",
        "\n",
        "# 데이터 생성\n",
        "X, y = make_blobs(n_samples=150, n_features=2, centers=2, cluster_std=1, shuffle=True, random_state=0)\n",
        "\n",
        "# Logistic Regression 모델 훈련\n",
        "model = LogisticRegression()\n",
        "model.fit(X, y)\n",
        "\n",
        "# 결정 경계 시각화를 위한 그리드 생성\n",
        "x_min, x_max = X[:, 0].min() - 1, X[:, 0].max() + 1\n",
        "y_min, y_max = X[:, 1].min() - 1, X[:, 1].max() + 1\n",
        "xx, yy = np.meshgrid(np.arange(x_min, x_max, 0.01), np.arange(y_min, y_max, 0.01))\n",
        "Z = lr.predict(np.c_[xx.ravel(), yy.ravel()])\n",
        "Z = Z.reshape(xx.shape)\n",
        "\n",
        "plt.contourf(xx, yy, Z, alpha=0.8)\n",
        "plt.scatter(X[:, 0], X[:, 1], c=y, marker='o', edgecolors='k')\n",
        "plt.xlabel(\"Feature 1\")\n",
        "plt.ylabel(\"Feature 2\")\n",
        "plt.title(\"Logistic Regression Decision Boundary\")\n",
        "plt.show()"
      ],
      "metadata": {
        "id": "m8AfWJBgoA8n"
      },
      "execution_count": null,
      "outputs": []
    },
    {
      "cell_type": "markdown",
      "metadata": {
        "id": "veOT_Av8qn-X"
      },
      "source": [
        "## 불확실성 계측"
      ]
    },
    {
      "cell_type": "markdown",
      "metadata": {
        "id": "oEGngezFhlIr"
      },
      "source": [
        "결정함수 decision_function를 통해 결정값(decisions)을 얻습니다.\n",
        "\n",
        "```\n",
        "decisions = X * coef + intercept\n",
        "```\n",
        "\n",
        "결정값(decisions)은 클래스 1에 속한다고 믿는 정도이며 부호만 판별합니다 (0보다 크면 양성, 0보다 작으면 음성이)"
      ]
    },
    {
      "cell_type": "code",
      "metadata": {
        "id": "xPpZVwwifBcE"
      },
      "source": [
        "## 결정함수 decision_function를 통해 결정값(decisions)을 얻습니다\n",
        "decisions = model.decision_function(X[:5])\n",
        "decisions"
      ],
      "execution_count": null,
      "outputs": []
    },
    {
      "cell_type": "markdown",
      "source": [
        "확률값 확인 (양성클래스 확률)\n",
        "* expit (aka 로지스틱 함수 또는 시그모이드 함수)\n",
        "* expit(x) = 1/(1+exp(-x))"
      ],
      "metadata": {
        "id": "0n9jTaZEo7cT"
      }
    },
    {
      "cell_type": "code",
      "metadata": {
        "id": "vk8Wk_5NfBXe"
      },
      "source": [
        "import scipy\n",
        "\n",
        "scipy.special.expit(decisions)"
      ],
      "execution_count": null,
      "outputs": []
    },
    {
      "cell_type": "markdown",
      "metadata": {
        "id": "Y7n1JOwKu9BY"
      },
      "source": [
        "**2019-2023 [FinanceData.KR]()**"
      ]
    }
  ]
}