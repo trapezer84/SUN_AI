{
  "cells": [
    {
      "cell_type": "markdown",
      "metadata": {
        "id": "pORaytF7RgbY"
      },
      "source": [
        "# 머신러닝 - 결정트리\n",
        "  \n",
        "\n",
        "**2019-2023 [FinanceData.KR]()**\n"
      ]
    },
    {
      "cell_type": "markdown",
      "source": [
        "## 붓꽃(아이리스) 데이터셋\n",
        "\n",
        "http://nbviewer.jupyter.org/b7c2a073463ef59938f2eaaf9d2c169c"
      ],
      "metadata": {
        "id": "9-NZEDL5sw-g"
      }
    },
    {
      "cell_type": "markdown",
      "source": [
        "#### 결정트리 모델 사용"
      ],
      "metadata": {
        "id": "-1rZBanjpBtr"
      }
    },
    {
      "cell_type": "code",
      "source": [
        "from sklearn.datasets import load_iris\n",
        "from sklearn.model_selection import train_test_split\n",
        "\n",
        "iris = load_iris()\n",
        "x_train, x_test, y_train, y_test = train_test_split(iris.data, iris.target, test_size=0.2, random_state=0)"
      ],
      "metadata": {
        "id": "AglD_xcelmHB"
      },
      "execution_count": null,
      "outputs": []
    },
    {
      "cell_type": "code",
      "source": [
        "from sklearn.tree import DecisionTreeClassifier\n",
        "\n",
        "model = DecisionTreeClassifier(random_state=0)\n",
        "model.fit(x_train, y_train)"
      ],
      "metadata": {
        "id": "wgOTltmiq0nA"
      },
      "execution_count": null,
      "outputs": []
    },
    {
      "cell_type": "markdown",
      "source": [
        "#### 결정트리 시각화\n",
        "sklearn.tree.plot_tree()\n",
        "\n",
        "https://scikit-learn.org/stable/modules/generated/sklearn.tree.plot_tree.html\n",
        "\n"
      ],
      "metadata": {
        "id": "n7CnliDEo_3N"
      }
    },
    {
      "cell_type": "code",
      "source": [
        "import matplotlib.pyplot as plt\n",
        "from sklearn import tree\n",
        "\n",
        "plt.figure(figsize=(15, 9))\n",
        "annots = tree.plot_tree(model, class_names=iris.target_names, feature_names=iris.feature_names, filled=True, rounded=True)"
      ],
      "metadata": {
        "id": "AmdgQCJ0lmB_"
      },
      "execution_count": null,
      "outputs": []
    },
    {
      "cell_type": "code",
      "source": [
        "annots"
      ],
      "metadata": {
        "id": "djTjDmeOXL-0"
      },
      "execution_count": null,
      "outputs": []
    },
    {
      "cell_type": "markdown",
      "source": [
        "지니계수가 0이 될 때까지 계속 분할"
      ],
      "metadata": {
        "id": "HplGYcGEqjWy"
      }
    },
    {
      "cell_type": "markdown",
      "source": [
        "#### 과적합 방지\n",
        "max_depth, min_samples_split, min_samples_leaf 등을 조절하여 트리가 과적합되는 것을 방지"
      ],
      "metadata": {
        "id": "30aUe7AUrtlD"
      }
    },
    {
      "cell_type": "code",
      "source": [
        "model = DecisionTreeClassifier(criterion='gini', max_depth=3, min_samples_leaf=2, random_state=0)\n",
        "model.fit(x_train, y_train)\n",
        "\n",
        "plt.figure(figsize=(15, 9))\n",
        "annots = tree.plot_tree(model, class_names=iris.target_names, feature_names=iris.feature_names, filled=True, rounded=True)"
      ],
      "metadata": {
        "id": "qy0sefX-rQ9V"
      },
      "execution_count": null,
      "outputs": []
    },
    {
      "cell_type": "code",
      "source": [
        "annots"
      ],
      "metadata": {
        "id": "oCEqKrhGYiVU"
      },
      "execution_count": null,
      "outputs": []
    },
    {
      "cell_type": "markdown",
      "source": [
        "#### 특성 중요도 (feature importances)\n",
        "* 각 특성이 얼마나 작용했는지 평가하는 지표\n",
        "* 0~1사이의 값을 가지며, 클수록 영향력이 크다는 의미\n",
        "* 특성 중요도 전체의 합은 항상 1\n",
        "\n",
        "\n"
      ],
      "metadata": {
        "id": "R_W7k_VKr4ac"
      }
    },
    {
      "cell_type": "code",
      "source": [
        "for name, value in zip(iris.feature_names , model.feature_importances_):\n",
        "    print(f'{name} : {value:.4f}')"
      ],
      "metadata": {
        "id": "CtsfZU7csSDH"
      },
      "execution_count": null,
      "outputs": []
    },
    {
      "cell_type": "code",
      "source": [
        "model.feature_importances_"
      ],
      "metadata": {
        "id": "Yfm-IMSGX8Ab"
      },
      "execution_count": null,
      "outputs": []
    },
    {
      "cell_type": "code",
      "source": [
        "import seaborn as sns\n",
        "sns.barplot(x=model.feature_importances_ , y=iris.feature_names)"
      ],
      "metadata": {
        "id": "bX34QllmsmS3"
      },
      "execution_count": null,
      "outputs": []
    },
    {
      "cell_type": "markdown",
      "metadata": {
        "id": "xG1Oan-e5tn8"
      },
      "source": [
        "## 타이타닉 생존자 데이터셋"
      ]
    },
    {
      "cell_type": "code",
      "metadata": {
        "id": "hfJaCcDW5tn9"
      },
      "source": [
        "import seaborn as sns\n",
        "\n",
        "df = sns.load_dataset(\"titanic\")\n",
        "df"
      ],
      "execution_count": null,
      "outputs": []
    },
    {
      "cell_type": "code",
      "source": [
        "df[\"survived\"].value_counts()"
      ],
      "metadata": {
        "id": "p4SBI61euE0W"
      },
      "execution_count": null,
      "outputs": []
    },
    {
      "cell_type": "markdown",
      "source": [
        "#### 전처리 - 정수 인코딩\n",
        "\n",
        "참고 : [머신러닝 데이터 전처리 - 인코딩](https://nbviewer.org/1e6222113a0333a72ac25adcedde39a1)"
      ],
      "metadata": {
        "id": "u-68nCimv4bf"
      }
    },
    {
      "cell_type": "code",
      "source": [
        "from sklearn.preprocessing import LabelEncoder\n",
        "\n",
        "df[\"gender\"] = LabelEncoder().fit_transform(df[\"sex\"])\n",
        "df.head()"
      ],
      "metadata": {
        "id": "STRcLGGHv3sG"
      },
      "execution_count": null,
      "outputs": []
    },
    {
      "cell_type": "markdown",
      "source": [
        "#### 전처리 - 결측치 처리"
      ],
      "metadata": {
        "id": "r4-AtRLzyfJ_"
      }
    },
    {
      "cell_type": "code",
      "source": [
        "df['age'] = df['age'].fillna(df['age'].mean())\n",
        "\n",
        "df.isnull().sum()"
      ],
      "metadata": {
        "id": "x-lBAElfysmC"
      },
      "execution_count": null,
      "outputs": []
    },
    {
      "cell_type": "markdown",
      "source": [
        "#### 필요한 컬럼 선택"
      ],
      "metadata": {
        "id": "CR_rFTh0ytYI"
      }
    },
    {
      "cell_type": "code",
      "metadata": {
        "id": "z-VLivFR5toA"
      },
      "source": [
        "feature_names = [\"pclass\", \"age\", \"gender\"]\n",
        "\n",
        "X = df[feature_names]\n",
        "y = df[\"survived\"]"
      ],
      "execution_count": null,
      "outputs": []
    },
    {
      "cell_type": "code",
      "source": [
        "from sklearn.model_selection import train_test_split\n",
        "\n",
        "x_train, x_test, y_train, y_test = train_test_split(X, y, test_size=0.25, random_state=0)"
      ],
      "metadata": {
        "id": "TSXFwDCOuI37"
      },
      "execution_count": null,
      "outputs": []
    },
    {
      "cell_type": "code",
      "source": [
        "from sklearn.tree import DecisionTreeClassifier\n",
        "\n",
        "model = DecisionTreeClassifier(max_depth=3, min_samples_leaf=5)\n",
        "model.fit(x_train, y_train)"
      ],
      "metadata": {
        "id": "hm5L6qYguI0k"
      },
      "execution_count": null,
      "outputs": []
    },
    {
      "cell_type": "code",
      "source": [
        "plt.figure(figsize=(15, 9))\n",
        "annots = tree.plot_tree(model, feature_names=feature_names, filled=True, rounded=True)"
      ],
      "metadata": {
        "id": "8HPxEzHkzIEj"
      },
      "execution_count": null,
      "outputs": []
    },
    {
      "cell_type": "code",
      "source": [
        "for name, value in zip(feature_names , model.feature_importances_):\n",
        "    print(f'{name} : {value:.4f}')"
      ],
      "metadata": {
        "id": "dGwZ0ylUYr_U"
      },
      "execution_count": null,
      "outputs": []
    },
    {
      "cell_type": "markdown",
      "metadata": {
        "id": "QrVO2_v45tpK"
      },
      "source": [
        "## confusion_matrix"
      ]
    },
    {
      "cell_type": "code",
      "metadata": {
        "id": "GOF6g0BW5tpK"
      },
      "source": [
        "from sklearn.metrics import confusion_matrix\n",
        "\n",
        "confusion_matrix(y_test, model.predict(x_test))"
      ],
      "execution_count": null,
      "outputs": []
    },
    {
      "cell_type": "code",
      "metadata": {
        "id": "oBY6r4s_5tpR"
      },
      "source": [
        "from sklearn.metrics import classification_report\n",
        "\n",
        "print(classification_report(y_test, model.predict(x_test)))"
      ],
      "execution_count": null,
      "outputs": []
    },
    {
      "cell_type": "markdown",
      "metadata": {
        "id": "YcjJzmkqReu0"
      },
      "source": [
        "----\n",
        "**2019-2023 [FinanceData.KR]()**\n"
      ]
    }
  ],
  "metadata": {
    "colab": {
      "provenance": []
    },
    "kernelspec": {
      "display_name": "Python 3",
      "name": "python3"
    },
    "language_info": {
      "name": "python"
    }
  },
  "nbformat": 4,
  "nbformat_minor": 0
}