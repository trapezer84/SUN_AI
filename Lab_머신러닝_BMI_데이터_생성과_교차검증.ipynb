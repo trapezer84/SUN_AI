{
  "nbformat": 4,
  "nbformat_minor": 0,
  "metadata": {
    "kernelspec": {
      "display_name": "Python 3",
      "language": "python",
      "name": "python3"
    },
    "language_info": {
      "codemirror_mode": {
        "name": "ipython",
        "version": 3
      },
      "file_extension": ".py",
      "mimetype": "text/x-python",
      "name": "python",
      "nbconvert_exporter": "python",
      "pygments_lexer": "ipython3",
      "version": "3.5.2"
    },
    "colab": {
      "name": " Lab 머신러닝  - BMI 데이터 생성과 교차검증",
      "provenance": []
    }
  },
  "cells": [
    {
      "cell_type": "markdown",
      "metadata": {
        "id": "r9129B5d3Q4x"
      },
      "source": [
        "# Lab 머신러닝 - BMI\n",
        "\n",
        "* 대량의 데이터 생성\n",
        "* 훈련, 테스트 데이터 나누기\n",
        "* 교차검증\n",
        "\n",
        "<img width=\"20%\" src=\"https://i.imgur.com/9goz5Hw.png\" >\n",
        "   \n",
        "\n",
        "**2018-2022 FinanceData.KR http://facebook.com/financedata**"
      ]
    },
    {
      "cell_type": "code",
      "metadata": {
        "collapsed": true,
        "id": "8JDxZ9Ka3Q44"
      },
      "source": [
        "import matplotlib.pyplot as plt"
      ],
      "execution_count": null,
      "outputs": []
    },
    {
      "cell_type": "markdown",
      "metadata": {
        "id": "M-8yC76O3Q45"
      },
      "source": [
        "\n",
        "```python\n",
        "BMI = 몸무게(kg) / 키(m) ** 2\n",
        "```\n",
        "\n",
        "표준 몸무게 18.5 <= BMI < 25\n"
      ]
    },
    {
      "cell_type": "code",
      "metadata": {
        "id": "b8Gxy9yH3Q46",
        "outputId": "9cea34a4-4cea-4e6b-fd5f-f10834c4600b"
      },
      "source": [
        "import numpy as np\n",
        "\n",
        "weights = np.random.uniform(40, 200, 10)\n",
        "weights"
      ],
      "execution_count": null,
      "outputs": [
        {
          "data": {
            "text/plain": [
              "array([  88.78855234,  144.77054708,   56.43590786,  184.39531035,\n",
              "         89.83165676,   87.91193998,  157.56943062,  154.49242548,\n",
              "         42.7158912 ,  197.02566906])"
            ]
          },
          "execution_count": 2,
          "metadata": {},
          "output_type": "execute_result"
        }
      ]
    },
    {
      "cell_type": "code",
      "metadata": {
        "id": "dx_kfcfq3Q47",
        "outputId": "873015a7-debb-4ba5-81a1-8f407a8a8806"
      },
      "source": [
        "heights = np.random.uniform(1.60, 2.40, 10)\n",
        "heights"
      ],
      "execution_count": null,
      "outputs": [
        {
          "data": {
            "text/plain": [
              "array([ 1.71740109,  2.31289985,  1.85242012,  2.09880013,  2.10618076,\n",
              "        2.32591371,  2.16654659,  2.2941191 ,  2.1300416 ,  2.18354069])"
            ]
          },
          "execution_count": 3,
          "metadata": {},
          "output_type": "execute_result"
        }
      ]
    },
    {
      "cell_type": "code",
      "metadata": {
        "collapsed": true,
        "id": "zNPqhHvx3Q47"
      },
      "source": [
        "import pandas as pd"
      ],
      "execution_count": null,
      "outputs": []
    },
    {
      "cell_type": "code",
      "metadata": {
        "id": "DtFgAvn-3Q48",
        "outputId": "89fef8a9-4093-410c-d1af-316f31474464"
      },
      "source": [
        "data = {\n",
        "    'weight': np.random.uniform(40, 100, 10),\n",
        "    'height': np.random.uniform(1.5, 2.0, 10),\n",
        "}\n",
        "\n",
        "data"
      ],
      "execution_count": null,
      "outputs": [
        {
          "data": {
            "text/plain": [
              "{'height': array([ 1.88747027,  1.85066565,  1.97780781,  1.77455185,  1.53483484,\n",
              "         1.66812697,  1.72229679,  1.68324289,  1.95302801,  1.88265054]),\n",
              " 'weight': array([ 61.43475206,  64.8573771 ,  50.13669764,  79.22070505,\n",
              "         72.39773377,  85.28594534,  99.20890745,  86.934427  ,\n",
              "         77.80477543,  60.43410013])}"
            ]
          },
          "execution_count": 5,
          "metadata": {},
          "output_type": "execute_result"
        }
      ]
    },
    {
      "cell_type": "code",
      "metadata": {
        "id": "NFhMgGFI3Q49",
        "outputId": "ab120d80-cf33-4c3b-fc38-93e66dee0b6d"
      },
      "source": [
        "df = pd.DataFrame(data)\n",
        "df"
      ],
      "execution_count": null,
      "outputs": [
        {
          "data": {
            "text/html": [
              "<div>\n",
              "<style scoped>\n",
              "    .dataframe tbody tr th:only-of-type {\n",
              "        vertical-align: middle;\n",
              "    }\n",
              "\n",
              "    .dataframe tbody tr th {\n",
              "        vertical-align: top;\n",
              "    }\n",
              "\n",
              "    .dataframe thead th {\n",
              "        text-align: right;\n",
              "    }\n",
              "</style>\n",
              "<table border=\"1\" class=\"dataframe\">\n",
              "  <thead>\n",
              "    <tr style=\"text-align: right;\">\n",
              "      <th></th>\n",
              "      <th>height</th>\n",
              "      <th>weight</th>\n",
              "    </tr>\n",
              "  </thead>\n",
              "  <tbody>\n",
              "    <tr>\n",
              "      <th>0</th>\n",
              "      <td>1.887470</td>\n",
              "      <td>61.434752</td>\n",
              "    </tr>\n",
              "    <tr>\n",
              "      <th>1</th>\n",
              "      <td>1.850666</td>\n",
              "      <td>64.857377</td>\n",
              "    </tr>\n",
              "    <tr>\n",
              "      <th>2</th>\n",
              "      <td>1.977808</td>\n",
              "      <td>50.136698</td>\n",
              "    </tr>\n",
              "    <tr>\n",
              "      <th>3</th>\n",
              "      <td>1.774552</td>\n",
              "      <td>79.220705</td>\n",
              "    </tr>\n",
              "    <tr>\n",
              "      <th>4</th>\n",
              "      <td>1.534835</td>\n",
              "      <td>72.397734</td>\n",
              "    </tr>\n",
              "    <tr>\n",
              "      <th>5</th>\n",
              "      <td>1.668127</td>\n",
              "      <td>85.285945</td>\n",
              "    </tr>\n",
              "    <tr>\n",
              "      <th>6</th>\n",
              "      <td>1.722297</td>\n",
              "      <td>99.208907</td>\n",
              "    </tr>\n",
              "    <tr>\n",
              "      <th>7</th>\n",
              "      <td>1.683243</td>\n",
              "      <td>86.934427</td>\n",
              "    </tr>\n",
              "    <tr>\n",
              "      <th>8</th>\n",
              "      <td>1.953028</td>\n",
              "      <td>77.804775</td>\n",
              "    </tr>\n",
              "    <tr>\n",
              "      <th>9</th>\n",
              "      <td>1.882651</td>\n",
              "      <td>60.434100</td>\n",
              "    </tr>\n",
              "  </tbody>\n",
              "</table>\n",
              "</div>"
            ],
            "text/plain": [
              "     height     weight\n",
              "0  1.887470  61.434752\n",
              "1  1.850666  64.857377\n",
              "2  1.977808  50.136698\n",
              "3  1.774552  79.220705\n",
              "4  1.534835  72.397734\n",
              "5  1.668127  85.285945\n",
              "6  1.722297  99.208907\n",
              "7  1.683243  86.934427\n",
              "8  1.953028  77.804775\n",
              "9  1.882651  60.434100"
            ]
          },
          "execution_count": 6,
          "metadata": {},
          "output_type": "execute_result"
        }
      ]
    },
    {
      "cell_type": "code",
      "metadata": {
        "id": "0bkB7rJ43Q4-",
        "outputId": "d1908f61-7b85-47df-e8b9-02696d569ace"
      },
      "source": [
        "df['status'] = 'norm'\n",
        "df.loc[df['weight'] / df['height']**2 >= 25, 'status'] = 'fat'\n",
        "df.loc[df['weight'] / df['height']**2 < 18.5, 'status'] = 'thin'\n",
        "\n",
        "df"
      ],
      "execution_count": null,
      "outputs": [
        {
          "data": {
            "text/html": [
              "<div>\n",
              "<style scoped>\n",
              "    .dataframe tbody tr th:only-of-type {\n",
              "        vertical-align: middle;\n",
              "    }\n",
              "\n",
              "    .dataframe tbody tr th {\n",
              "        vertical-align: top;\n",
              "    }\n",
              "\n",
              "    .dataframe thead th {\n",
              "        text-align: right;\n",
              "    }\n",
              "</style>\n",
              "<table border=\"1\" class=\"dataframe\">\n",
              "  <thead>\n",
              "    <tr style=\"text-align: right;\">\n",
              "      <th></th>\n",
              "      <th>height</th>\n",
              "      <th>weight</th>\n",
              "      <th>status</th>\n",
              "    </tr>\n",
              "  </thead>\n",
              "  <tbody>\n",
              "    <tr>\n",
              "      <th>0</th>\n",
              "      <td>1.887470</td>\n",
              "      <td>61.434752</td>\n",
              "      <td>thin</td>\n",
              "    </tr>\n",
              "    <tr>\n",
              "      <th>1</th>\n",
              "      <td>1.850666</td>\n",
              "      <td>64.857377</td>\n",
              "      <td>norm</td>\n",
              "    </tr>\n",
              "    <tr>\n",
              "      <th>2</th>\n",
              "      <td>1.977808</td>\n",
              "      <td>50.136698</td>\n",
              "      <td>thin</td>\n",
              "    </tr>\n",
              "    <tr>\n",
              "      <th>3</th>\n",
              "      <td>1.774552</td>\n",
              "      <td>79.220705</td>\n",
              "      <td>fat</td>\n",
              "    </tr>\n",
              "    <tr>\n",
              "      <th>4</th>\n",
              "      <td>1.534835</td>\n",
              "      <td>72.397734</td>\n",
              "      <td>fat</td>\n",
              "    </tr>\n",
              "    <tr>\n",
              "      <th>5</th>\n",
              "      <td>1.668127</td>\n",
              "      <td>85.285945</td>\n",
              "      <td>fat</td>\n",
              "    </tr>\n",
              "    <tr>\n",
              "      <th>6</th>\n",
              "      <td>1.722297</td>\n",
              "      <td>99.208907</td>\n",
              "      <td>fat</td>\n",
              "    </tr>\n",
              "    <tr>\n",
              "      <th>7</th>\n",
              "      <td>1.683243</td>\n",
              "      <td>86.934427</td>\n",
              "      <td>fat</td>\n",
              "    </tr>\n",
              "    <tr>\n",
              "      <th>8</th>\n",
              "      <td>1.953028</td>\n",
              "      <td>77.804775</td>\n",
              "      <td>norm</td>\n",
              "    </tr>\n",
              "    <tr>\n",
              "      <th>9</th>\n",
              "      <td>1.882651</td>\n",
              "      <td>60.434100</td>\n",
              "      <td>thin</td>\n",
              "    </tr>\n",
              "  </tbody>\n",
              "</table>\n",
              "</div>"
            ],
            "text/plain": [
              "     height     weight status\n",
              "0  1.887470  61.434752   thin\n",
              "1  1.850666  64.857377   norm\n",
              "2  1.977808  50.136698   thin\n",
              "3  1.774552  79.220705    fat\n",
              "4  1.534835  72.397734    fat\n",
              "5  1.668127  85.285945    fat\n",
              "6  1.722297  99.208907    fat\n",
              "7  1.683243  86.934427    fat\n",
              "8  1.953028  77.804775   norm\n",
              "9  1.882651  60.434100   thin"
            ]
          },
          "execution_count": 7,
          "metadata": {},
          "output_type": "execute_result"
        }
      ]
    },
    {
      "cell_type": "markdown",
      "metadata": {
        "id": "wh_VFBs63Q4_"
      },
      "source": [
        "# 훈련 데이터, 테스트 데이터 나누기"
      ]
    },
    {
      "cell_type": "code",
      "metadata": {
        "collapsed": true,
        "id": "Vk3d2Zse3Q5A"
      },
      "source": [
        "from sklearn.model_selection import train_test_split\n",
        "\n",
        "X_train, X_test, y_train, y_test = train_test_split(df[['weight', 'height']], df['status'])"
      ],
      "execution_count": null,
      "outputs": []
    },
    {
      "cell_type": "code",
      "metadata": {
        "id": "qX590P913Q5B",
        "outputId": "9ad3ffb9-63c8-42ed-bfc3-d237231b895b"
      },
      "source": [
        "X_train"
      ],
      "execution_count": null,
      "outputs": [
        {
          "data": {
            "text/html": [
              "<div>\n",
              "<style scoped>\n",
              "    .dataframe tbody tr th:only-of-type {\n",
              "        vertical-align: middle;\n",
              "    }\n",
              "\n",
              "    .dataframe tbody tr th {\n",
              "        vertical-align: top;\n",
              "    }\n",
              "\n",
              "    .dataframe thead th {\n",
              "        text-align: right;\n",
              "    }\n",
              "</style>\n",
              "<table border=\"1\" class=\"dataframe\">\n",
              "  <thead>\n",
              "    <tr style=\"text-align: right;\">\n",
              "      <th></th>\n",
              "      <th>weight</th>\n",
              "      <th>height</th>\n",
              "    </tr>\n",
              "  </thead>\n",
              "  <tbody>\n",
              "    <tr>\n",
              "      <th>2</th>\n",
              "      <td>50.136698</td>\n",
              "      <td>1.977808</td>\n",
              "    </tr>\n",
              "    <tr>\n",
              "      <th>6</th>\n",
              "      <td>99.208907</td>\n",
              "      <td>1.722297</td>\n",
              "    </tr>\n",
              "    <tr>\n",
              "      <th>0</th>\n",
              "      <td>61.434752</td>\n",
              "      <td>1.887470</td>\n",
              "    </tr>\n",
              "    <tr>\n",
              "      <th>8</th>\n",
              "      <td>77.804775</td>\n",
              "      <td>1.953028</td>\n",
              "    </tr>\n",
              "    <tr>\n",
              "      <th>4</th>\n",
              "      <td>72.397734</td>\n",
              "      <td>1.534835</td>\n",
              "    </tr>\n",
              "    <tr>\n",
              "      <th>7</th>\n",
              "      <td>86.934427</td>\n",
              "      <td>1.683243</td>\n",
              "    </tr>\n",
              "    <tr>\n",
              "      <th>5</th>\n",
              "      <td>85.285945</td>\n",
              "      <td>1.668127</td>\n",
              "    </tr>\n",
              "  </tbody>\n",
              "</table>\n",
              "</div>"
            ],
            "text/plain": [
              "      weight    height\n",
              "2  50.136698  1.977808\n",
              "6  99.208907  1.722297\n",
              "0  61.434752  1.887470\n",
              "8  77.804775  1.953028\n",
              "4  72.397734  1.534835\n",
              "7  86.934427  1.683243\n",
              "5  85.285945  1.668127"
            ]
          },
          "execution_count": 9,
          "metadata": {},
          "output_type": "execute_result"
        }
      ]
    },
    {
      "cell_type": "code",
      "metadata": {
        "id": "9062QvL-3Q5C",
        "outputId": "aa9543a7-77d2-4f92-c7ff-24b13b0afe18"
      },
      "source": [
        "X_test"
      ],
      "execution_count": null,
      "outputs": [
        {
          "data": {
            "text/html": [
              "<div>\n",
              "<style scoped>\n",
              "    .dataframe tbody tr th:only-of-type {\n",
              "        vertical-align: middle;\n",
              "    }\n",
              "\n",
              "    .dataframe tbody tr th {\n",
              "        vertical-align: top;\n",
              "    }\n",
              "\n",
              "    .dataframe thead th {\n",
              "        text-align: right;\n",
              "    }\n",
              "</style>\n",
              "<table border=\"1\" class=\"dataframe\">\n",
              "  <thead>\n",
              "    <tr style=\"text-align: right;\">\n",
              "      <th></th>\n",
              "      <th>weight</th>\n",
              "      <th>height</th>\n",
              "    </tr>\n",
              "  </thead>\n",
              "  <tbody>\n",
              "    <tr>\n",
              "      <th>9</th>\n",
              "      <td>60.434100</td>\n",
              "      <td>1.882651</td>\n",
              "    </tr>\n",
              "    <tr>\n",
              "      <th>3</th>\n",
              "      <td>79.220705</td>\n",
              "      <td>1.774552</td>\n",
              "    </tr>\n",
              "    <tr>\n",
              "      <th>1</th>\n",
              "      <td>64.857377</td>\n",
              "      <td>1.850666</td>\n",
              "    </tr>\n",
              "  </tbody>\n",
              "</table>\n",
              "</div>"
            ],
            "text/plain": [
              "      weight    height\n",
              "9  60.434100  1.882651\n",
              "3  79.220705  1.774552\n",
              "1  64.857377  1.850666"
            ]
          },
          "execution_count": 10,
          "metadata": {},
          "output_type": "execute_result"
        }
      ]
    },
    {
      "cell_type": "code",
      "metadata": {
        "id": "IY6SEdQ83Q5D",
        "outputId": "037901a7-90d5-4b6f-d3fc-3a47d3b07d46"
      },
      "source": [
        "y_train"
      ],
      "execution_count": null,
      "outputs": [
        {
          "data": {
            "text/plain": [
              "2    thin\n",
              "6     fat\n",
              "0    thin\n",
              "8    norm\n",
              "4     fat\n",
              "7     fat\n",
              "5     fat\n",
              "Name: status, dtype: object"
            ]
          },
          "execution_count": 11,
          "metadata": {},
          "output_type": "execute_result"
        }
      ]
    },
    {
      "cell_type": "code",
      "metadata": {
        "id": "7joOrIWh3Q5E",
        "outputId": "868f9d1c-4d1d-40fb-e2ba-a2cf7d809d68"
      },
      "source": [
        "y_test"
      ],
      "execution_count": null,
      "outputs": [
        {
          "data": {
            "text/plain": [
              "9    thin\n",
              "3     fat\n",
              "1    norm\n",
              "Name: status, dtype: object"
            ]
          },
          "execution_count": 12,
          "metadata": {},
          "output_type": "execute_result"
        }
      ]
    },
    {
      "cell_type": "code",
      "metadata": {
        "id": "ozKs7rrm3Q5F",
        "outputId": "0c065ac8-dc8a-4fa5-b0b0-9e207a1ac930"
      },
      "source": [
        "# 훈련하기\n",
        "from sklearn import svm\n",
        "\n",
        "m = svm.SVC()\n",
        "m.fit(X_train, y_train)"
      ],
      "execution_count": null,
      "outputs": [
        {
          "data": {
            "text/plain": [
              "SVC(C=1.0, cache_size=200, class_weight=None, coef0=0.0,\n",
              "  decision_function_shape='ovr', degree=3, gamma='auto', kernel='rbf',\n",
              "  max_iter=-1, probability=False, random_state=None, shrinking=True,\n",
              "  tol=0.001, verbose=False)"
            ]
          },
          "execution_count": 13,
          "metadata": {},
          "output_type": "execute_result"
        }
      ]
    },
    {
      "cell_type": "code",
      "metadata": {
        "id": "CtcnLlGD3Q5G",
        "outputId": "ecc67e4e-c11d-4eae-8975-49ef1fc4c149"
      },
      "source": [
        "# 예측하기\n",
        "predict = m.predict(X_test)\n",
        "predict"
      ],
      "execution_count": null,
      "outputs": [
        {
          "data": {
            "text/plain": [
              "array(['thin', 'fat', 'fat'], dtype=object)"
            ]
          },
          "execution_count": 14,
          "metadata": {},
          "output_type": "execute_result"
        }
      ]
    },
    {
      "cell_type": "code",
      "metadata": {
        "id": "IqBSB4ic3Q5G",
        "outputId": "9adf4409-1922-4aa9-f3d4-18e3718b6a14"
      },
      "source": [
        "# 성능평가\n",
        "from sklearn import svm, metrics\n",
        "\n",
        "scroe = metrics.accuracy_score(y_test, predict)\n",
        "scroe"
      ],
      "execution_count": null,
      "outputs": [
        {
          "data": {
            "text/plain": [
              "0.66666666666666663"
            ]
          },
          "execution_count": 15,
          "metadata": {},
          "output_type": "execute_result"
        }
      ]
    },
    {
      "cell_type": "markdown",
      "metadata": {
        "id": "4QMLY3vu3Q5G"
      },
      "source": [
        "# 교차 검증 (cross validation)"
      ]
    },
    {
      "cell_type": "code",
      "metadata": {
        "id": "zyZwpZmA3Q5H",
        "outputId": "3325e60f-5425-4bf8-d2fa-e34b9b38243b"
      },
      "source": [
        "# 정리\n",
        "# 10000개 데이터를 생성하여 훈련\n",
        "\n",
        "import numpy as np\n",
        "import pandas as pd\n",
        "from sklearn import svm, metrics\n",
        "from sklearn.model_selection import train_test_split\n",
        "\n",
        "data = {\n",
        "    'weight': np.random.uniform(40, 100, 10000),\n",
        "    'height': np.random.uniform(1.5, 2.0, 10000),\n",
        "}\n",
        "\n",
        "df = pd.DataFrame(data)\n",
        "\n",
        "df['status'] = 'normal'\n",
        "df.loc[df['weight'] / df['height']**2 >= 25, 'status'] = 'fat'\n",
        "df.loc[df['weight'] / df['height']**2 < 18.5, 'status'] = 'thin'\n",
        "\n",
        "X = df[['weight', 'height']]\n",
        "y = df['status']\n",
        "X_train, X_test, y_train, y_test = train_test_split(X, y, test_size=0.2)\n",
        "\n",
        "# 훈련하기\n",
        "m = svm.SVC()\n",
        "m.fit(X_train, y_train)\n",
        "\n",
        "# 예측하기\n",
        "predict = m.predict(X_test)\n",
        "\n",
        "# 성능평가\n",
        "scroe = metrics.accuracy_score(y_test, predict)\n",
        "scroe"
      ],
      "execution_count": null,
      "outputs": [
        {
          "data": {
            "text/plain": [
              "0.92949999999999999"
            ]
          },
          "execution_count": 16,
          "metadata": {},
          "output_type": "execute_result"
        }
      ]
    },
    {
      "cell_type": "code",
      "metadata": {
        "id": "2yVnDx6H3Q5H",
        "outputId": "0fb810dc-8ac4-4e5c-967e-0898ade71859"
      },
      "source": [
        "# 과체중, 정상, 저체중\n",
        "df['status'].value_counts()"
      ],
      "execution_count": null,
      "outputs": [
        {
          "data": {
            "text/plain": [
              "fat       3803\n",
              "normal    3385\n",
              "thin      2812\n",
              "Name: status, dtype: int64"
            ]
          },
          "execution_count": 17,
          "metadata": {},
          "output_type": "execute_result"
        }
      ]
    },
    {
      "cell_type": "markdown",
      "metadata": {
        "collapsed": true,
        "id": "j3YHYWgf3Q5H"
      },
      "source": [
        "# confustion metrics\n",
        "* precision(정밀도): True로 예측한 것 중이 실제 True 비율\n",
        "* recall(재현율): 실제 True인 것 중에 True로 예측한 비율\n",
        "* f1-score: 정밀도(Precision)과 재현율(Recall)의 가중 조화 평균\n",
        "* support: y_true 개수"
      ]
    },
    {
      "cell_type": "code",
      "metadata": {
        "id": "GgggUwRI3Q5I",
        "outputId": "8c849c86-105a-46ec-f950-f2cbe012bd5a"
      },
      "source": [
        "report = metrics.classification_report(y_test, predict)\n",
        "print(report)"
      ],
      "execution_count": null,
      "outputs": [
        {
          "name": "stdout",
          "output_type": "stream",
          "text": [
            "             precision    recall  f1-score   support\n",
            "\n",
            "        fat       0.92      0.94      0.93       757\n",
            "     normal       0.90      0.90      0.90       700\n",
            "       thin       0.98      0.95      0.96       543\n",
            "\n",
            "avg / total       0.93      0.93      0.93      2000\n",
            "\n"
          ]
        }
      ]
    },
    {
      "cell_type": "markdown",
      "metadata": {
        "id": "sJ4tTvt_3Q5I"
      },
      "source": [
        "# 시각화"
      ]
    },
    {
      "cell_type": "code",
      "metadata": {
        "id": "sUfjlS7l3Q5I",
        "outputId": "aba504b7-0774-41a6-a74f-cd4df71d6d1f"
      },
      "source": [
        "df_fat = df[df.status=='fat']\n",
        "plt.scatter(df_fat['weight'], df_fat['height'], c='r', label='fat')\n",
        "\n",
        "df_norm = df[df.status=='normal']\n",
        "plt.scatter(df_norm['weight'], df_norm['height'], c='g', label='normal')\n",
        "\n",
        "df_thin = df[df.status=='thin']\n",
        "plt.scatter(df_thin['weight'], df_thin['height'], c='b', label='thin')\n",
        "\n",
        "plt.legend()"
      ],
      "execution_count": null,
      "outputs": [
        {
          "data": {
            "text/plain": [
              "<matplotlib.legend.Legend at 0x7fce9d9e5518>"
            ]
          },
          "execution_count": 19,
          "metadata": {},
          "output_type": "execute_result"
        },
        {
          "data": {
            "image/png": "[encoded data removed]",
            "text/plain": [
              "<matplotlib.figure.Figure at 0x7fce9d9e55f8>"
            ]
          },
          "metadata": {},
          "output_type": "display_data"
        }
      ]
    },
    {
      "cell_type": "markdown",
      "metadata": {
        "collapsed": true,
        "id": "98cZ4YFM3Q5J"
      },
      "source": [
        "**2018-2022 FinanceData.KR http://facebook.com/financedata**"
      ]
    }
  ]
}