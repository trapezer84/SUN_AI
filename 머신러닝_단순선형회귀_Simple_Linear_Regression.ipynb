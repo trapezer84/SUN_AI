{
  "nbformat": 4,
  "nbformat_minor": 0,
  "metadata": {
    "colab": {
      "provenance": []
    },
    "language_info": {
      "codemirror_mode": {
        "name": "ipython",
        "version": 3
      },
      "file_extension": ".py",
      "mimetype": "text/x-python",
      "name": "python",
      "nbconvert_exporter": "python",
      "pygments_lexer": "ipython3",
      "version": "3.7.0"
    },
    "kernelspec": {
      "display_name": "Python 3",
      "language": "python",
      "name": "python3"
    }
  },
  "cells": [
    {
      "cell_type": "markdown",
      "metadata": {
        "id": "qAJ4Mqu3Tadd"
      },
      "source": [
        "# 머신러닝 - 단순 선형회귀 (Simple Linear Regression)\n",
        "  \n",
        "\n",
        "**2019-2023 [FinanceData.KR]()**\n"
      ]
    },
    {
      "cell_type": "code",
      "metadata": {
        "id": "j8SCXfEzTade"
      },
      "source": [
        "import numpy as np\n",
        "import pandas as pd\n",
        "import matplotlib.pyplot as plt\n",
        "import seaborn as sns"
      ],
      "execution_count": null,
      "outputs": []
    },
    {
      "cell_type": "code",
      "source": [
        "## 예제 #1 - 간단예제"
      ],
      "metadata": {
        "id": "AKhSYS1XGhHT"
      },
      "execution_count": null,
      "outputs": []
    },
    {
      "cell_type": "code",
      "metadata": {
        "id": "UudZotzpTadi",
        "colab": {
          "base_uri": "https://localhost:8080/"
        },
        "outputId": "148e0ed2-78bf-493f-e608-29a05b0d8324"
      },
      "source": [
        "from sklearn.linear_model import LinearRegression\n",
        "model = LinearRegression()\n",
        "\n",
        "model.fit ([[0, 0], [1, 1], [2, 2]], [0, 1, 2])\n",
        "\n",
        "print(model.coef_)\n",
        "print(model.intercept_)"
      ],
      "execution_count": null,
      "outputs": [
        {
          "output_type": "stream",
          "name": "stdout",
          "text": [
            "[0.5 0.5]\n",
            "1.1102230246251565e-16\n"
          ]
        }
      ]
    },
    {
      "cell_type": "code",
      "metadata": {
        "id": "-zNlODXDTadm",
        "colab": {
          "base_uri": "https://localhost:8080/"
        },
        "outputId": "56832d8f-501b-498c-a5a5-85fa91fc3847"
      },
      "source": [
        "model.predict([[15, 15], [100, 100]])"
      ],
      "execution_count": null,
      "outputs": [
        {
          "output_type": "execute_result",
          "data": {
            "text/plain": [
              "array([ 15., 100.])"
            ]
          },
          "metadata": {},
          "execution_count": 3
        }
      ]
    },
    {
      "cell_type": "markdown",
      "metadata": {
        "id": "cjyXou9JTad2"
      },
      "source": [
        "## 예제 #2 - 피자의 크기와 가격\n",
        "\n",
        "* X : 피자 크기\n",
        "* y : 가격\n",
        "* 질문 : 12인치 피자는 과연 얼마일까?"
      ]
    },
    {
      "cell_type": "code",
      "metadata": {
        "id": "cAUe2VmvTad3",
        "colab": {
          "base_uri": "https://localhost:8080/",
          "height": 269
        },
        "outputId": "6fe570d9-86da-4e4b-c41c-e7d7f5b2fa64"
      },
      "source": [
        "X = np.array([[6], [8], [10], [14], [18]])\n",
        "y = [7, 9, 13, 17.5, 18]\n",
        "\n",
        "plt.plot(X, y, 'ro')\n",
        "plt.axis([0, 25, 0, 25])\n",
        "plt.grid(True)\n",
        "plt.show()"
      ],
      "execution_count": null,
      "outputs": [
        {
          "output_type": "display_data",
          "data": {
            "text/plain": [
              "<Figure size 432x288 with 1 Axes>"
            ],
            "image/png": "[encoded data removed]"
          },
          "metadata": {
            "needs_background": "light"
          }
        }
      ]
    },
    {
      "cell_type": "code",
      "metadata": {
        "id": "xlxZZQ3MTad7",
        "colab": {
          "base_uri": "https://localhost:8080/"
        },
        "outputId": "ee2c956f-e90e-46a3-fad5-e1915e913090"
      },
      "source": [
        "#선형회귀 모델 생성\n",
        "lr = LinearRegression()\n",
        "\n",
        "lr.fit(X, y)  #모형 생성\n",
        "print('기울기 coefficent', lr.coef_)\n",
        "print('절편 interceptor', lr.intercept_)\n",
        "print('R^2', lr.score(X, y))"
      ],
      "execution_count": null,
      "outputs": [
        {
          "output_type": "stream",
          "name": "stdout",
          "text": [
            "기울기 coefficent [0.9762931]\n",
            "절편 interceptor 1.965517241379315\n",
            "R^2 0.9100015964240102\n"
          ]
        }
      ]
    },
    {
      "cell_type": "code",
      "metadata": {
        "id": "sXhMi-qITad_",
        "colab": {
          "base_uri": "https://localhost:8080/"
        },
        "outputId": "ec53b684-bdd5-4fe9-d13f-a9ed5974cd3c"
      },
      "source": [
        "mypizza = np.array([[12]])\n",
        "dollar = lr.predict(mypizza)\n",
        "\n",
        "print('12인치 피자 가격', dollar)"
      ],
      "execution_count": null,
      "outputs": [
        {
          "output_type": "stream",
          "name": "stdout",
          "text": [
            "12인치 피자 가격 [13.68103448]\n"
          ]
        }
      ]
    },
    {
      "cell_type": "markdown",
      "metadata": {
        "id": "ei2zfzkgmfDk"
      },
      "source": [
        "## 예제 #3 - 가상 데이터 생성"
      ]
    },
    {
      "cell_type": "code",
      "source": [
        "from sklearn.datasets import make_regression\n",
        "\n",
        "X, y, c = make_regression(n_samples=50, n_features=1, bias=100, noise=10, coef=True, random_state=0)\n",
        "plt.scatter(X, y, s=100)"
      ],
      "metadata": {
        "colab": {
          "base_uri": "https://localhost:8080/",
          "height": 284
        },
        "id": "hNtgcCj2WbeD",
        "outputId": "c4c1deb8-57ed-429f-ba62-8ecc251f7af8"
      },
      "execution_count": null,
      "outputs": [
        {
          "output_type": "execute_result",
          "data": {
            "text/plain": [
              "<matplotlib.collections.PathCollection at 0x7fcda5204fd0>"
            ]
          },
          "metadata": {},
          "execution_count": 7
        },
        {
          "output_type": "display_data",
          "data": {
            "text/plain": [
              "<Figure size 432x288 with 1 Axes>"
            ],
            "image/png": "[encoded data removed]"
          },
          "metadata": {
            "needs_background": "light"
          }
        }
      ]
    },
    {
      "cell_type": "code",
      "source": [
        "from sklearn.linear_model import LinearRegression\n",
        "from sklearn.model_selection import train_test_split\n",
        "\n",
        "x_train, x_test, y_train, y_test = train_test_split(X, y, random_state=10)\n",
        "\n",
        "lr = LinearRegression()\n",
        "lr.fit(x_train, y_train) #선형모델 생성을 위한 객체생성\n",
        "\n",
        "print('기울기 coefficent', lr.coef_)       #가중치weight\n",
        "print('절편 interceptor', lr.intercept_)   #편향bias\n",
        "print()\n",
        "print('훈련 측정값 R^2', lr.score(x_train, y_train))\n",
        "print('검증 측정값 R^2', lr.score(x_test, y_test))"
      ],
      "metadata": {
        "colab": {
          "base_uri": "https://localhost:8080/"
        },
        "id": "J4KJUJPdWslQ",
        "outputId": "db945b95-16d3-40ab-f47c-ef10761e40ad"
      },
      "execution_count": null,
      "outputs": [
        {
          "output_type": "stream",
          "name": "stdout",
          "text": [
            "기울기 coefficent [14.67861538]\n",
            "절편 interceptor 101.68175301980135\n",
            "\n",
            "훈련 측정값 R^2 0.832466212407101\n",
            "검증 측정값 R^2 0.541325907491879\n"
          ]
        }
      ]
    },
    {
      "cell_type": "markdown",
      "metadata": {
        "id": "i8Pvf-JsTael"
      },
      "source": [
        "----\n",
        "**2019-2023 [FinanceData.KR]()**\n"
      ]
    }
  ]
}