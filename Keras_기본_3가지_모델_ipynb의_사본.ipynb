{
  "nbformat": 4,
  "nbformat_minor": 0,
  "metadata": {
    "colab": {
      "provenance": []
    },
    "kernelspec": {
      "name": "python3",
      "display_name": "Python 3"
    },
    "language_info": {
      "name": "python"
    }
  },
  "cells": [
    {
      "cell_type": "markdown",
      "source": [
        "## 1) 회귀 모델\n",
        "Keras 간단한 회귀 모델 예제\n",
        "\n",
        "x = [1, 2, 3, 4, 5, 6, 7, 8, 9]  \n",
        "y = [1, 4, 9, 16, 25, 36, 49, 64, 81]  "
      ],
      "metadata": {
        "id": "f-NmyCxJpZAH"
      }
    },
    {
      "cell_type": "code",
      "execution_count": 1,
      "metadata": {
        "id": "50h6JhagoWrD",
        "colab": {
          "base_uri": "https://localhost:8080/"
        },
        "outputId": "104e9400-d806-4b09-f491-07f3c16dae15"
      },
      "outputs": [
        {
          "output_type": "stream",
          "name": "stdout",
          "text": [
            "Epoch 1/100\n",
            "1/1 [==============================] - 2s 2s/step - loss: 1613.4598\n",
            "Epoch 2/100\n",
            "1/1 [==============================] - 0s 23ms/step - loss: 1612.9615\n",
            "Epoch 3/100\n",
            "1/1 [==============================] - 0s 19ms/step - loss: 1612.4634\n",
            "Epoch 4/100\n",
            "1/1 [==============================] - 0s 21ms/step - loss: 1611.9651\n",
            "Epoch 5/100\n",
            "1/1 [==============================] - 0s 22ms/step - loss: 1611.4669\n",
            "Epoch 6/100\n",
            "1/1 [==============================] - 0s 19ms/step - loss: 1610.9690\n",
            "Epoch 7/100\n",
            "1/1 [==============================] - 0s 20ms/step - loss: 1610.4711\n",
            "Epoch 8/100\n",
            "1/1 [==============================] - 0s 23ms/step - loss: 1609.9731\n",
            "Epoch 9/100\n",
            "1/1 [==============================] - 0s 12ms/step - loss: 1609.4755\n",
            "Epoch 10/100\n",
            "1/1 [==============================] - 0s 19ms/step - loss: 1608.9779\n",
            "Epoch 11/100\n",
            "1/1 [==============================] - 0s 15ms/step - loss: 1608.4803\n",
            "Epoch 12/100\n",
            "1/1 [==============================] - 0s 11ms/step - loss: 1607.9829\n",
            "Epoch 13/100\n",
            "1/1 [==============================] - 0s 15ms/step - loss: 1607.4856\n",
            "Epoch 14/100\n",
            "1/1 [==============================] - 0s 17ms/step - loss: 1606.9883\n",
            "Epoch 15/100\n",
            "1/1 [==============================] - 0s 12ms/step - loss: 1606.4913\n",
            "Epoch 16/100\n",
            "1/1 [==============================] - 0s 10ms/step - loss: 1605.9943\n",
            "Epoch 17/100\n",
            "1/1 [==============================] - 0s 14ms/step - loss: 1605.4973\n",
            "Epoch 18/100\n",
            "1/1 [==============================] - 0s 17ms/step - loss: 1605.0005\n",
            "Epoch 19/100\n",
            "1/1 [==============================] - 0s 16ms/step - loss: 1604.5035\n",
            "Epoch 20/100\n",
            "1/1 [==============================] - 0s 32ms/step - loss: 1604.0071\n",
            "Epoch 21/100\n",
            "1/1 [==============================] - 0s 15ms/step - loss: 1603.5106\n",
            "Epoch 22/100\n",
            "1/1 [==============================] - 0s 14ms/step - loss: 1603.0143\n",
            "Epoch 23/100\n",
            "1/1 [==============================] - 0s 13ms/step - loss: 1602.5181\n",
            "Epoch 24/100\n",
            "1/1 [==============================] - 0s 12ms/step - loss: 1602.0220\n",
            "Epoch 25/100\n",
            "1/1 [==============================] - 0s 28ms/step - loss: 1601.5260\n",
            "Epoch 26/100\n",
            "1/1 [==============================] - 0s 17ms/step - loss: 1601.0299\n",
            "Epoch 27/100\n",
            "1/1 [==============================] - 0s 16ms/step - loss: 1600.5341\n",
            "Epoch 28/100\n",
            "1/1 [==============================] - 0s 24ms/step - loss: 1600.0386\n",
            "Epoch 29/100\n",
            "1/1 [==============================] - 0s 13ms/step - loss: 1599.5430\n",
            "Epoch 30/100\n",
            "1/1 [==============================] - 0s 17ms/step - loss: 1599.0475\n",
            "Epoch 31/100\n",
            "1/1 [==============================] - 0s 15ms/step - loss: 1598.5522\n",
            "Epoch 32/100\n",
            "1/1 [==============================] - 0s 15ms/step - loss: 1598.0569\n",
            "Epoch 33/100\n",
            "1/1 [==============================] - 0s 18ms/step - loss: 1597.5619\n",
            "Epoch 34/100\n",
            "1/1 [==============================] - 0s 16ms/step - loss: 1597.0670\n",
            "Epoch 35/100\n",
            "1/1 [==============================] - 0s 15ms/step - loss: 1596.5721\n",
            "Epoch 36/100\n",
            "1/1 [==============================] - 0s 18ms/step - loss: 1596.0774\n",
            "Epoch 37/100\n",
            "1/1 [==============================] - 0s 17ms/step - loss: 1595.5826\n",
            "Epoch 38/100\n",
            "1/1 [==============================] - 0s 17ms/step - loss: 1595.0884\n",
            "Epoch 39/100\n",
            "1/1 [==============================] - 0s 24ms/step - loss: 1594.5939\n",
            "Epoch 40/100\n",
            "1/1 [==============================] - 0s 12ms/step - loss: 1594.0996\n",
            "Epoch 41/100\n",
            "1/1 [==============================] - 0s 8ms/step - loss: 1593.6057\n",
            "Epoch 42/100\n",
            "1/1 [==============================] - 0s 10ms/step - loss: 1593.1117\n",
            "Epoch 43/100\n",
            "1/1 [==============================] - 0s 10ms/step - loss: 1592.6177\n",
            "Epoch 44/100\n",
            "1/1 [==============================] - 0s 10ms/step - loss: 1592.1239\n",
            "Epoch 45/100\n",
            "1/1 [==============================] - 0s 11ms/step - loss: 1591.6304\n",
            "Epoch 46/100\n",
            "1/1 [==============================] - 0s 9ms/step - loss: 1591.1368\n",
            "Epoch 47/100\n",
            "1/1 [==============================] - 0s 11ms/step - loss: 1590.6434\n",
            "Epoch 48/100\n",
            "1/1 [==============================] - 0s 8ms/step - loss: 1590.1501\n",
            "Epoch 49/100\n",
            "1/1 [==============================] - 0s 10ms/step - loss: 1589.6570\n",
            "Epoch 50/100\n",
            "1/1 [==============================] - 0s 7ms/step - loss: 1589.1641\n",
            "Epoch 51/100\n",
            "1/1 [==============================] - 0s 7ms/step - loss: 1588.6714\n",
            "Epoch 52/100\n",
            "1/1 [==============================] - 0s 12ms/step - loss: 1588.1786\n",
            "Epoch 53/100\n",
            "1/1 [==============================] - 0s 7ms/step - loss: 1587.6860\n",
            "Epoch 54/100\n",
            "1/1 [==============================] - 0s 10ms/step - loss: 1587.1932\n",
            "Epoch 55/100\n",
            "1/1 [==============================] - 0s 11ms/step - loss: 1586.7009\n",
            "Epoch 56/100\n",
            "1/1 [==============================] - 0s 12ms/step - loss: 1586.2087\n",
            "Epoch 57/100\n",
            "1/1 [==============================] - 0s 7ms/step - loss: 1585.7167\n",
            "Epoch 58/100\n",
            "1/1 [==============================] - 0s 7ms/step - loss: 1585.2245\n",
            "Epoch 59/100\n",
            "1/1 [==============================] - 0s 6ms/step - loss: 1584.7329\n",
            "Epoch 60/100\n",
            "1/1 [==============================] - 0s 6ms/step - loss: 1584.2411\n",
            "Epoch 61/100\n",
            "1/1 [==============================] - 0s 15ms/step - loss: 1583.7493\n",
            "Epoch 62/100\n",
            "1/1 [==============================] - 0s 7ms/step - loss: 1583.2578\n",
            "Epoch 63/100\n",
            "1/1 [==============================] - 0s 20ms/step - loss: 1582.7665\n",
            "Epoch 64/100\n",
            "1/1 [==============================] - 0s 11ms/step - loss: 1582.2753\n",
            "Epoch 65/100\n",
            "1/1 [==============================] - 0s 16ms/step - loss: 1581.7841\n",
            "Epoch 66/100\n",
            "1/1 [==============================] - 0s 12ms/step - loss: 1581.2932\n",
            "Epoch 67/100\n",
            "1/1 [==============================] - 0s 10ms/step - loss: 1580.8022\n",
            "Epoch 68/100\n",
            "1/1 [==============================] - 0s 15ms/step - loss: 1580.3114\n",
            "Epoch 69/100\n",
            "1/1 [==============================] - 0s 9ms/step - loss: 1579.8209\n",
            "Epoch 70/100\n",
            "1/1 [==============================] - 0s 11ms/step - loss: 1579.3303\n",
            "Epoch 71/100\n",
            "1/1 [==============================] - 0s 29ms/step - loss: 1578.8401\n",
            "Epoch 72/100\n",
            "1/1 [==============================] - 0s 17ms/step - loss: 1578.3499\n",
            "Epoch 73/100\n",
            "1/1 [==============================] - 0s 10ms/step - loss: 1577.8597\n",
            "Epoch 74/100\n",
            "1/1 [==============================] - 0s 30ms/step - loss: 1577.3696\n",
            "Epoch 75/100\n",
            "1/1 [==============================] - 0s 39ms/step - loss: 1576.8799\n",
            "Epoch 76/100\n",
            "1/1 [==============================] - 0s 41ms/step - loss: 1576.3901\n",
            "Epoch 77/100\n",
            "1/1 [==============================] - 0s 29ms/step - loss: 1575.9004\n",
            "Epoch 78/100\n",
            "1/1 [==============================] - 0s 40ms/step - loss: 1575.4108\n",
            "Epoch 79/100\n",
            "1/1 [==============================] - 0s 46ms/step - loss: 1574.9215\n",
            "Epoch 80/100\n",
            "1/1 [==============================] - 0s 18ms/step - loss: 1574.4325\n",
            "Epoch 81/100\n",
            "1/1 [==============================] - 0s 17ms/step - loss: 1573.9430\n",
            "Epoch 82/100\n",
            "1/1 [==============================] - 0s 16ms/step - loss: 1573.4542\n",
            "Epoch 83/100\n",
            "1/1 [==============================] - 0s 17ms/step - loss: 1572.9655\n",
            "Epoch 84/100\n",
            "1/1 [==============================] - 0s 11ms/step - loss: 1572.4768\n",
            "Epoch 85/100\n",
            "1/1 [==============================] - 0s 21ms/step - loss: 1571.9882\n",
            "Epoch 86/100\n",
            "1/1 [==============================] - 0s 18ms/step - loss: 1571.4996\n",
            "Epoch 87/100\n",
            "1/1 [==============================] - 0s 8ms/step - loss: 1571.0114\n",
            "Epoch 88/100\n",
            "1/1 [==============================] - 0s 18ms/step - loss: 1570.5229\n",
            "Epoch 89/100\n",
            "1/1 [==============================] - 0s 13ms/step - loss: 1570.0349\n",
            "Epoch 90/100\n",
            "1/1 [==============================] - 0s 16ms/step - loss: 1569.5469\n",
            "Epoch 91/100\n",
            "1/1 [==============================] - 0s 15ms/step - loss: 1569.0591\n",
            "Epoch 92/100\n",
            "1/1 [==============================] - 0s 12ms/step - loss: 1568.5715\n",
            "Epoch 93/100\n",
            "1/1 [==============================] - 0s 28ms/step - loss: 1568.0837\n",
            "Epoch 94/100\n",
            "1/1 [==============================] - 0s 27ms/step - loss: 1567.5963\n",
            "Epoch 95/100\n",
            "1/1 [==============================] - 0s 56ms/step - loss: 1567.1089\n",
            "Epoch 96/100\n",
            "1/1 [==============================] - 0s 22ms/step - loss: 1566.6218\n",
            "Epoch 97/100\n",
            "1/1 [==============================] - 0s 26ms/step - loss: 1566.1346\n",
            "Epoch 98/100\n",
            "1/1 [==============================] - 0s 14ms/step - loss: 1565.6477\n",
            "Epoch 99/100\n",
            "1/1 [==============================] - 0s 18ms/step - loss: 1565.1608\n",
            "Epoch 100/100\n",
            "1/1 [==============================] - 0s 19ms/step - loss: 1564.6742\n"
          ]
        }
      ],
      "source": [
        "import numpy as np\n",
        "import tensorflow as tf\n",
        "from tensorflow import keras\n",
        "from tensorflow.keras import layers\n",
        "\n",
        "# 데이터 준비\n",
        "x = np.array([1, 2, 3, 4, 5, 6, 7, 8, 9], dtype=float)\n",
        "y = np.array([1, 4, 9, 16, 25, 36, 49, 64, 81], dtype=float)\n",
        "\n",
        "# 모델 구성\n",
        "model = keras.Sequential([\n",
        "    layers.Dense(1, input_shape=[1])  # 선형 레이어 하나를 사용\n",
        "])\n",
        "\n",
        "# 모델 컴파일\n",
        "model.compile(optimizer='adam', loss='mean_squared_error')\n",
        "\n",
        "# 모델 학습\n",
        "hist = model.fit(x, y, epochs=100)\n",
        "\n"
      ]
    },
    {
      "cell_type": "code",
      "source": [],
      "metadata": {
        "id": "YhAVgrj5sR9C"
      },
      "execution_count": null,
      "outputs": []
    },
    {
      "cell_type": "code",
      "source": [
        "# 학습된 모델로 예측\n",
        "predicted_y = model.predict([10, 20])\n",
        "predicted_y"
      ],
      "metadata": {
        "colab": {
          "base_uri": "https://localhost:8080/"
        },
        "id": "qD285FKqr84x",
        "outputId": "63153bec-405a-4a44-d737-f072a0344356"
      },
      "execution_count": 2,
      "outputs": [
        {
          "output_type": "stream",
          "name": "stdout",
          "text": [
            "1/1 [==============================] - 0s 130ms/step\n"
          ]
        },
        {
          "output_type": "execute_result",
          "data": {
            "text/plain": [
              "array([[3.130508],\n",
              "       [6.16135 ]], dtype=float32)"
            ]
          },
          "metadata": {},
          "execution_count": 2
        }
      ]
    },
    {
      "cell_type": "code",
      "source": [
        "import numpy as np\n",
        "import tensorflow as tf\n",
        "from tensorflow import keras\n",
        "from tensorflow.keras import layers\n",
        "\n",
        "# 데이터 준비\n",
        "x = np.array([1, 2, 3, 4, 5, 6, 7, 8, 9], dtype=float)\n",
        "y = np.array([1, 4, 9, 16, 25, 36, 49, 64, 81], dtype=float)\n",
        "\n",
        "# 모델 구성\n",
        "model = keras.Sequential([\n",
        "    layers.Dense(20, input_shape=[1]),  # 선형 레이어 20 를 사용\n",
        "    layers.Dense(1)\n",
        "])\n",
        "\n",
        "# 모델 컴파일\n",
        "model.compile(optimizer='adam', loss='mean_squared_error')\n",
        "\n",
        "# 모델 학습\n",
        "hist = model.fit(x, y, epochs=1000, verbose=0)\n",
        "# 학습된 모델로 예측\n",
        "predicted_y = model.predict([10, 20])\n",
        "predicted_y"
      ],
      "metadata": {
        "colab": {
          "base_uri": "https://localhost:8080/"
        },
        "id": "eUs8dxyXsexO",
        "outputId": "b7e62c01-b2c4-42d0-d04a-01bfbd596dec"
      },
      "execution_count": 8,
      "outputs": [
        {
          "output_type": "stream",
          "name": "stderr",
          "text": [
            "WARNING:tensorflow:5 out of the last 5 calls to <function Model.make_predict_function.<locals>.predict_function at 0x7d33c976ea70> triggered tf.function retracing. Tracing is expensive and the excessive number of tracings could be due to (1) creating @tf.function repeatedly in a loop, (2) passing tensors with different shapes, (3) passing Python objects instead of tensors. For (1), please define your @tf.function outside of the loop. For (2), @tf.function has reduce_retracing=True option that can avoid unnecessary retracing. For (3), please refer to https://www.tensorflow.org/guide/function#controlling_retracing and https://www.tensorflow.org/api_docs/python/tf/function for  more details.\n"
          ]
        },
        {
          "output_type": "stream",
          "name": "stdout",
          "text": [
            "1/1 [==============================] - 0s 64ms/step\n"
          ]
        },
        {
          "output_type": "execute_result",
          "data": {
            "text/plain": [
              "array([[ 68.66511],\n",
              "       [134.92682]], dtype=float32)"
            ]
          },
          "metadata": {},
          "execution_count": 8
        }
      ]
    },
    {
      "cell_type": "markdown",
      "source": [
        "## 2) 이진 분류 모델\n",
        "\n",
        "Keras사용해서 2진 분류 모델\n",
        "\n",
        "x = [[0, 0], [-1, -4], [-10, -50], [0, -10], [10, 20], [3,4], [9, 50]]    \n",
        "y = [0, 0, 0, 0, 1, 1, 1]  "
      ],
      "metadata": {
        "id": "fktwZTKltNj1"
      }
    },
    {
      "cell_type": "code",
      "source": [
        "import numpy as np\n",
        "import tensorflow as tf\n",
        "from tensorflow import keras\n",
        "from sklearn.model_selection import train_test_split\n",
        "\n",
        "# 데이터 준비\n",
        "x = np.array([[0, 0], [-1, -4], [-10, -50], [0, -10], [10, 20], [3, 4], [9, 50]])\n",
        "y = np.array([0, 0, 0, 0, 1, 1, 1])\n",
        "\n",
        "# 모델 생성\n",
        "model = keras.Sequential([\n",
        "    keras.layers.Input(shape=(2,)),\n",
        "    keras.layers.Dense(64, activation='relu'),\n",
        "    keras.layers.Dense(1, activation='sigmoid')\n",
        "])\n",
        "\n",
        "# 모델 컴파일\n",
        "model.compile(optimizer='adam', loss='binary_crossentropy', metrics=['accuracy'])\n",
        "\n",
        "# 모델 훈련\n",
        "model.fit(x, y, epochs=100, verbose=0)"
      ],
      "metadata": {
        "colab": {
          "base_uri": "https://localhost:8080/"
        },
        "id": "pQwx-s3qtNhe",
        "outputId": "239565ac-25b9-4f2e-f1c7-63e2a6273491"
      },
      "execution_count": 9,
      "outputs": [
        {
          "output_type": "execute_result",
          "data": {
            "text/plain": [
              "<keras.src.callbacks.History at 0x7d33b721aa40>"
            ]
          },
          "metadata": {},
          "execution_count": 9
        }
      ]
    },
    {
      "cell_type": "code",
      "source": [
        "# 모델 평가\n",
        "model.predict([[-1, -1], [30, 10]]) # [0, 1]"
      ],
      "metadata": {
        "colab": {
          "base_uri": "https://localhost:8080/"
        },
        "id": "d-7erOEetNe2",
        "outputId": "3add2c7b-6358-4c33-ff60-2986951ca0e6"
      },
      "execution_count": 5,
      "outputs": [
        {
          "output_type": "stream",
          "name": "stdout",
          "text": [
            "1/1 [==============================] - 0s 64ms/step\n"
          ]
        },
        {
          "output_type": "execute_result",
          "data": {
            "text/plain": [
              "array([[0.39982122],\n",
              "       [0.99983263]], dtype=float32)"
            ]
          },
          "metadata": {},
          "execution_count": 5
        }
      ]
    },
    {
      "cell_type": "markdown",
      "source": [
        "## 3) 다중 분류 모델\n",
        "\n",
        "Keras 다중 분류 모델\n",
        "\n",
        "x = [[0, 0], [-1, -4], [-10, -50], [0, -10], [10, 20], [3,4], [9, 50], [100, 200], [500, 200], [300,100]]    \n",
        "y = [1, 1, 1, 1, 2, 2, 2, 3, 3, 3]  "
      ],
      "metadata": {
        "id": "zCXUFJ7dwQau"
      }
    },
    {
      "cell_type": "code",
      "source": [
        "import numpy as np\n",
        "import tensorflow as tf\n",
        "from tensorflow import keras\n",
        "from sklearn.model_selection import train_test_split\n",
        "from sklearn.preprocessing import StandardScaler\n",
        "from sklearn.preprocessing import OneHotEncoder\n",
        "\n",
        "# 데이터 준비\n",
        "x = np.array([[0, 0], [-1, -4], [-10, -50], [0, -10], [10, 20], [3, 4], [9, 50], [100, 200], [500, 200], [300, 100]])\n",
        "y = np.array([0, 0, 0, 0, 1, 1, 1, 2, 2, 2])\n",
        "\n",
        "# 데이터 전처리\n",
        "scaler = StandardScaler()\n",
        "x_scaled = scaler.fit_transform(x)\n",
        "\n",
        "encoder = OneHotEncoder(sparse=False)\n",
        "y_encoded = encoder.fit_transform(y.reshape(-1, 1))\n",
        "\n",
        "# 데이터 분할\n",
        "x_train, x_test, y_train, y_test = train_test_split(x_scaled, y_encoded, test_size=0.2, random_state=42)\n",
        "\n",
        "# 모델 생성\n",
        "model = keras.Sequential([\n",
        "    keras.layers.Input(shape=(2,)),\n",
        "    keras.layers.Dense(64, activation='relu'),\n",
        "    keras.layers.Dense(32, activation='relu'),\n",
        "    keras.layers.Dense(3, activation='softmax')\n",
        "])\n",
        "\n",
        "# 모델 컴파일\n",
        "model.compile(optimizer='adam', loss='categorical_crossentropy', metrics=['accuracy'])\n",
        "\n",
        "# 모델 훈련\n",
        "hist = model.fit(x_train, y_train, epochs=100, verbose=0)"
      ],
      "metadata": {
        "colab": {
          "base_uri": "https://localhost:8080/"
        },
        "id": "hpo9K-2Typme",
        "outputId": "9e2f5e4a-7938-41f8-99f9-a63c2254582f"
      },
      "execution_count": 6,
      "outputs": [
        {
          "output_type": "stream",
          "name": "stderr",
          "text": [
            "/usr/local/lib/python3.10/dist-packages/sklearn/preprocessing/_encoders.py:868: FutureWarning: `sparse` was renamed to `sparse_output` in version 1.2 and will be removed in 1.4. `sparse_output` is ignored unless you leave `sparse` to its default value.\n",
            "  warnings.warn(\n"
          ]
        }
      ]
    },
    {
      "cell_type": "code",
      "source": [
        "model.predict([[10, 20], [100, 200]])"
      ],
      "metadata": {
        "colab": {
          "base_uri": "https://localhost:8080/"
        },
        "id": "vShGdnNNzADG",
        "outputId": "7cf18c89-da6b-433f-8561-07af7d3ffc42"
      },
      "execution_count": 7,
      "outputs": [
        {
          "output_type": "stream",
          "name": "stdout",
          "text": [
            "1/1 [==============================] - 0s 68ms/step\n"
          ]
        },
        {
          "output_type": "execute_result",
          "data": {
            "text/plain": [
              "array([[3.0624676e-22, 1.9212308e-29, 1.0000000e+00],\n",
              "       [0.0000000e+00, 0.0000000e+00, 1.0000000e+00]], dtype=float32)"
            ]
          },
          "metadata": {},
          "execution_count": 7
        }
      ]
    },
    {
      "cell_type": "code",
      "source": [],
      "metadata": {
        "id": "LYAWLcHFzUl-"
      },
      "execution_count": 7,
      "outputs": []
    }
  ]
}