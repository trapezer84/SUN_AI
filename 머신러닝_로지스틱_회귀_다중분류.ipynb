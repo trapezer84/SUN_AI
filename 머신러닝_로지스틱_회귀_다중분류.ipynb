{
  "nbformat": 4,
  "nbformat_minor": 0,
  "metadata": {
    "colab": {
      "provenance": []
    },
    "kernelspec": {
      "name": "python3",
      "display_name": "Python 3"
    },
    "language_info": {
      "name": "python"
    }
  },
  "cells": [
    {
      "cell_type": "markdown",
      "metadata": {
        "id": "xVd38xbeu9Az"
      },
      "source": [
        "# 머신러닝 - 로지스틱 회귀 - 다중분류\n",
        "\n",
        "**2019-2023 [FinanceData.KR]()**"
      ]
    },
    {
      "cell_type": "markdown",
      "source": [
        "## LogisticRegression\n",
        "LogisticRegression(C=1.0, max_iter=100)\n",
        "* C: 규제(L2)강도의 역수(클수록 규제가 느슨)\n",
        "* max_iter:반복회수(무한루프 방지)"
      ],
      "metadata": {
        "id": "BpB7buTrtuk4"
      }
    },
    {
      "cell_type": "code",
      "source": [
        "from sklearn.datasets import make_blobs\n",
        "from sklearn.linear_model import LogisticRegression\n",
        "\n",
        "# 데이터 생성\n",
        "X, y = make_blobs(n_samples=150, n_features=2, centers=3, cluster_std=2.0, shuffle=True, random_state=0)\n",
        "\n",
        "# Logistic Regression 모델 훈련\n",
        "lr = LogisticRegression(C=10, max_iter=200)\n",
        "lr.fit(X, y)"
      ],
      "metadata": {
        "id": "miwAluXxtuKp"
      },
      "execution_count": null,
      "outputs": []
    },
    {
      "cell_type": "code",
      "source": [
        "print(lr.coef_)\n",
        "print(lr.intercept_)"
      ],
      "metadata": {
        "id": "RgDgrTOfwD-I"
      },
      "execution_count": null,
      "outputs": []
    },
    {
      "cell_type": "code",
      "source": [
        "#@title 결정 경계 시각화\n",
        "import numpy as np\n",
        "import matplotlib.pyplot as plt\n",
        "\n",
        "x1_min, x1_max = X[:, 0].min() - 1, X[:, 0].max() + 1\n",
        "x2_min, x2_max = X[:, 1].min() - 1, X[:, 1].max() + 1\n",
        "x1_range = np.linspace(x1_min, x1_max, 100)\n",
        "x2_range = np.linspace(x2_min, x2_max, 100)\n",
        "x1_grid, x2_grid = np.meshgrid(x1_range, x2_range)\n",
        "X_grid = np.column_stack((x1_grid.ravel(), x2_grid.ravel()))\n",
        "y_pred_grid = lr.predict(X_grid)\n",
        "y_pred_grid = y_pred_grid.reshape(x1_grid.shape)\n",
        "\n",
        "# 데이터 및 결정 경계 시각화\n",
        "plt.figure()\n",
        "plt.contourf(x1_grid, x2_grid, y_pred_grid, cmap='viridis', alpha=0.3)\n",
        "plt.scatter(X[:, 0], X[:, 1], c=y, cmap='viridis', edgecolors='k')\n",
        "plt.xlabel('Feature 1')\n",
        "plt.ylabel('Feature 2')\n",
        "plt.title('Decision Boundary Visualization with Logistic Regression')\n",
        "plt.colorbar(label='y')\n",
        "plt.show()\n"
      ],
      "metadata": {
        "id": "rcUsLvHMv9A0",
        "cellView": "form"
      },
      "execution_count": null,
      "outputs": []
    },
    {
      "cell_type": "code",
      "source": [
        "## 예측해보기\n",
        "lr.predict(X[:5])"
      ],
      "metadata": {
        "id": "yHzrcyJxwzFI"
      },
      "execution_count": null,
      "outputs": []
    },
    {
      "cell_type": "code",
      "source": [
        "## 계수 확인\n",
        "lr.coef_, lr.intercept_"
      ],
      "metadata": {
        "id": "6gHrnVBkwzA7"
      },
      "execution_count": null,
      "outputs": []
    },
    {
      "cell_type": "code",
      "source": [
        "# 계수(coef)의 shape\n",
        "lr.coef_.shape # class=3, feature=2"
      ],
      "metadata": {
        "id": "u6HSRwHkwy6y"
      },
      "execution_count": null,
      "outputs": []
    },
    {
      "cell_type": "code",
      "source": [
        "## 확률값 확인(1)\n",
        "lr.predict_proba(X[:5])"
      ],
      "metadata": {
        "id": "MSumI7c4w3aZ"
      },
      "execution_count": null,
      "outputs": []
    },
    {
      "cell_type": "code",
      "source": [
        "## 확률값 확인(2)\n",
        "import pandas as pd\n",
        "\n",
        "prob = pd.DataFrame(lr.predict_proba(X), columns=['Class 0', 'Class 1', 'Class 2'])\n",
        "prob[:10] # 처음 10건"
      ],
      "metadata": {
        "id": "lx3pP5ODw5R4"
      },
      "execution_count": null,
      "outputs": []
    },
    {
      "cell_type": "code",
      "source": [
        "prob.sum(axis=1) # 개별 class 확률의 합은 항상 1"
      ],
      "metadata": {
        "id": "GLBuf92Hw9s5"
      },
      "execution_count": null,
      "outputs": []
    },
    {
      "cell_type": "markdown",
      "source": [
        "## 불확실성 계측(확률값 확인)"
      ],
      "metadata": {
        "id": "1aHigRwnw_jz"
      }
    },
    {
      "cell_type": "code",
      "source": [
        "decisions = lr.decision_function(X[:5]) # 5건만 확인\n",
        "decisions"
      ],
      "metadata": {
        "id": "5a_GnQJrxFXv"
      },
      "execution_count": null,
      "outputs": []
    },
    {
      "cell_type": "markdown",
      "source": [
        "양성 확률 구하기\n",
        "* 다중분류의 경우 softmax 함수 사용\n",
        "* 이진분류의 경우 sigmoid(=logistic) 함수 사용\n"
      ],
      "metadata": {
        "id": "K8fTZHgBxIaE"
      }
    },
    {
      "cell_type": "code",
      "source": [
        "import scipy\n",
        "\n",
        "pd.DataFrame(scipy.special.softmax(decisions, axis=1))"
      ],
      "metadata": {
        "id": "9sWnFRJAxUN9"
      },
      "execution_count": null,
      "outputs": []
    },
    {
      "cell_type": "markdown",
      "metadata": {
        "id": "Y7n1JOwKu9BY"
      },
      "source": [
        "**2019-2023 [FinanceData.KR]()**"
      ]
    }
  ]
}